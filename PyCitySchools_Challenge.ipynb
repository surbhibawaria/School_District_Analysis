{
 "cells": [
  {
   "cell_type": "code",
   "execution_count": 1,
   "id": "399491f9",
   "metadata": {},
   "outputs": [
    {
     "name": "stderr",
     "output_type": "stream",
     "text": [
      "/opt/anaconda3/envs/PythonData/lib/python3.7/site-packages/ipykernel_launcher.py:18: FutureWarning: The default value of regex will change from True to False in a future version.\n"
     ]
    },
    {
     "data": {
      "text/html": [
       "<div>\n",
       "<style scoped>\n",
       "    .dataframe tbody tr th:only-of-type {\n",
       "        vertical-align: middle;\n",
       "    }\n",
       "\n",
       "    .dataframe tbody tr th {\n",
       "        vertical-align: top;\n",
       "    }\n",
       "\n",
       "    .dataframe thead th {\n",
       "        text-align: right;\n",
       "    }\n",
       "</style>\n",
       "<table border=\"1\" class=\"dataframe\">\n",
       "  <thead>\n",
       "    <tr style=\"text-align: right;\">\n",
       "      <th></th>\n",
       "      <th>Student ID</th>\n",
       "      <th>student_name</th>\n",
       "      <th>gender</th>\n",
       "      <th>grade</th>\n",
       "      <th>school_name</th>\n",
       "      <th>reading_score</th>\n",
       "      <th>math_score</th>\n",
       "    </tr>\n",
       "  </thead>\n",
       "  <tbody>\n",
       "    <tr>\n",
       "      <th>0</th>\n",
       "      <td>0</td>\n",
       "      <td>Paul Bradley</td>\n",
       "      <td>M</td>\n",
       "      <td>9th</td>\n",
       "      <td>Huang High School</td>\n",
       "      <td>66</td>\n",
       "      <td>79</td>\n",
       "    </tr>\n",
       "    <tr>\n",
       "      <th>1</th>\n",
       "      <td>1</td>\n",
       "      <td>Victor Smith</td>\n",
       "      <td>M</td>\n",
       "      <td>12th</td>\n",
       "      <td>Huang High School</td>\n",
       "      <td>94</td>\n",
       "      <td>61</td>\n",
       "    </tr>\n",
       "    <tr>\n",
       "      <th>2</th>\n",
       "      <td>2</td>\n",
       "      <td>Kevin Rodriguez</td>\n",
       "      <td>M</td>\n",
       "      <td>12th</td>\n",
       "      <td>Huang High School</td>\n",
       "      <td>90</td>\n",
       "      <td>60</td>\n",
       "    </tr>\n",
       "    <tr>\n",
       "      <th>3</th>\n",
       "      <td>3</td>\n",
       "      <td>Richard Scott</td>\n",
       "      <td>M</td>\n",
       "      <td>12th</td>\n",
       "      <td>Huang High School</td>\n",
       "      <td>67</td>\n",
       "      <td>58</td>\n",
       "    </tr>\n",
       "    <tr>\n",
       "      <th>4</th>\n",
       "      <td>4</td>\n",
       "      <td>Bonnie Ray</td>\n",
       "      <td>F</td>\n",
       "      <td>9th</td>\n",
       "      <td>Huang High School</td>\n",
       "      <td>97</td>\n",
       "      <td>84</td>\n",
       "    </tr>\n",
       "    <tr>\n",
       "      <th>5</th>\n",
       "      <td>5</td>\n",
       "      <td>Bryan Miranda</td>\n",
       "      <td>M</td>\n",
       "      <td>9th</td>\n",
       "      <td>Huang High School</td>\n",
       "      <td>94</td>\n",
       "      <td>94</td>\n",
       "    </tr>\n",
       "    <tr>\n",
       "      <th>6</th>\n",
       "      <td>6</td>\n",
       "      <td>Sheena Carter</td>\n",
       "      <td>F</td>\n",
       "      <td>11th</td>\n",
       "      <td>Huang High School</td>\n",
       "      <td>82</td>\n",
       "      <td>80</td>\n",
       "    </tr>\n",
       "    <tr>\n",
       "      <th>7</th>\n",
       "      <td>7</td>\n",
       "      <td>Nicole Baker</td>\n",
       "      <td>F</td>\n",
       "      <td>12th</td>\n",
       "      <td>Huang High School</td>\n",
       "      <td>96</td>\n",
       "      <td>69</td>\n",
       "    </tr>\n",
       "    <tr>\n",
       "      <th>8</th>\n",
       "      <td>8</td>\n",
       "      <td>Michael Roth</td>\n",
       "      <td>M</td>\n",
       "      <td>10th</td>\n",
       "      <td>Huang High School</td>\n",
       "      <td>95</td>\n",
       "      <td>87</td>\n",
       "    </tr>\n",
       "    <tr>\n",
       "      <th>9</th>\n",
       "      <td>9</td>\n",
       "      <td>Matthew Greene</td>\n",
       "      <td>M</td>\n",
       "      <td>10th</td>\n",
       "      <td>Huang High School</td>\n",
       "      <td>96</td>\n",
       "      <td>84</td>\n",
       "    </tr>\n",
       "  </tbody>\n",
       "</table>\n",
       "</div>"
      ],
      "text/plain": [
       "   Student ID     student_name gender grade        school_name  reading_score  \\\n",
       "0           0     Paul Bradley      M   9th  Huang High School             66   \n",
       "1           1     Victor Smith      M  12th  Huang High School             94   \n",
       "2           2  Kevin Rodriguez      M  12th  Huang High School             90   \n",
       "3           3    Richard Scott      M  12th  Huang High School             67   \n",
       "4           4       Bonnie Ray      F   9th  Huang High School             97   \n",
       "5           5    Bryan Miranda      M   9th  Huang High School             94   \n",
       "6           6    Sheena Carter      F  11th  Huang High School             82   \n",
       "7           7     Nicole Baker      F  12th  Huang High School             96   \n",
       "8           8     Michael Roth      M  10th  Huang High School             95   \n",
       "9           9   Matthew Greene      M  10th  Huang High School             96   \n",
       "\n",
       "   math_score  \n",
       "0          79  \n",
       "1          61  \n",
       "2          60  \n",
       "3          58  \n",
       "4          84  \n",
       "5          94  \n",
       "6          80  \n",
       "7          69  \n",
       "8          87  \n",
       "9          84  "
      ]
     },
     "execution_count": 1,
     "metadata": {},
     "output_type": "execute_result"
    }
   ],
   "source": [
    "# Dependencies and Setup\n",
    "import pandas as pd\n",
    "\n",
    "# File to Load (Remember to change the path if needed.)\n",
    "school_data_to_load = \"Resources/schools_complete.csv\"\n",
    "student_data_to_load = \"Resources/students_complete.csv\"\n",
    "\n",
    "# Read the School Data and Student Data and store into a Pandas DataFrame\n",
    "school_data_df = pd.read_csv(school_data_to_load)\n",
    "student_data_df = pd.read_csv(student_data_to_load)\n",
    "\n",
    "# Cleaning Student Names and Replacing Substrings in a Python String\n",
    "# Add each prefix and suffix to remove to a list.\n",
    "prefixes_suffixes = [\"Dr. \", \"Mr. \",\"Ms. \", \"Mrs. \", \"Miss \", \" MD\", \" DDS\", \" DVM\", \" PhD\"]\n",
    "\n",
    "# Iterate through the words in the \"prefixes_suffixes\" list and replace them with an empty space, \"\".\n",
    "for word in prefixes_suffixes:\n",
    "    student_data_df[\"student_name\"] = student_data_df[\"student_name\"].str.replace(word,\"\")\n",
    "\n",
    "# Check names.\n",
    "student_data_df.head(10)"
   ]
  },
  {
   "cell_type": "markdown",
   "id": "e60b4d03",
   "metadata": {},
   "source": [
    "## Deliverable 1: Replace the reading and math scores.\n",
    "\n",
    "### Replace the 9th grade reading and math scores at Thomas High School with NaN."
   ]
  },
  {
   "cell_type": "code",
   "execution_count": 2,
   "id": "76363eaf",
   "metadata": {},
   "outputs": [],
   "source": [
    "# Install numpy using conda install numpy or pip install numpy. \n",
    "# Step 1. Import numpy as np.\n",
    "import numpy as np"
   ]
  },
  {
   "cell_type": "code",
   "execution_count": 3,
   "id": "37223423",
   "metadata": {},
   "outputs": [],
   "source": [
    "# Step 2. Use the loc method on the student_data_df to select all the reading scores from the 9th grade at Thomas High School and replace them with NaN.\n",
    "student_data_df.loc[(student_data_df['school_name'] == 'Thomas High School') & (student_data_df['grade'] == '9th'), 'reading_score'] = np.nan\n"
   ]
  },
  {
   "cell_type": "code",
   "execution_count": 4,
   "id": "8740acec",
   "metadata": {},
   "outputs": [],
   "source": [
    "#  Step 3. Refactor the code in Step 2 to replace the math scores with NaN.\n",
    "student_data_df.loc[(student_data_df['school_name'] == 'Thomas High School') & (student_data_df['grade'] == '9th'), 'math_score'] = np.nan\n"
   ]
  },
  {
   "cell_type": "code",
   "execution_count": 5,
   "id": "c602a0b7",
   "metadata": {},
   "outputs": [
    {
     "data": {
      "text/html": [
       "<div>\n",
       "<style scoped>\n",
       "    .dataframe tbody tr th:only-of-type {\n",
       "        vertical-align: middle;\n",
       "    }\n",
       "\n",
       "    .dataframe tbody tr th {\n",
       "        vertical-align: top;\n",
       "    }\n",
       "\n",
       "    .dataframe thead th {\n",
       "        text-align: right;\n",
       "    }\n",
       "</style>\n",
       "<table border=\"1\" class=\"dataframe\">\n",
       "  <thead>\n",
       "    <tr style=\"text-align: right;\">\n",
       "      <th></th>\n",
       "      <th>Student ID</th>\n",
       "      <th>student_name</th>\n",
       "      <th>gender</th>\n",
       "      <th>grade</th>\n",
       "      <th>school_name</th>\n",
       "      <th>reading_score</th>\n",
       "      <th>math_score</th>\n",
       "    </tr>\n",
       "  </thead>\n",
       "  <tbody>\n",
       "    <tr>\n",
       "      <th>39160</th>\n",
       "      <td>39160</td>\n",
       "      <td>Katie Weaver</td>\n",
       "      <td>F</td>\n",
       "      <td>11th</td>\n",
       "      <td>Thomas High School</td>\n",
       "      <td>89.0</td>\n",
       "      <td>86.0</td>\n",
       "    </tr>\n",
       "    <tr>\n",
       "      <th>39161</th>\n",
       "      <td>39161</td>\n",
       "      <td>April Reyes</td>\n",
       "      <td>F</td>\n",
       "      <td>10th</td>\n",
       "      <td>Thomas High School</td>\n",
       "      <td>70.0</td>\n",
       "      <td>84.0</td>\n",
       "    </tr>\n",
       "    <tr>\n",
       "      <th>39162</th>\n",
       "      <td>39162</td>\n",
       "      <td>Derek Weeks</td>\n",
       "      <td>M</td>\n",
       "      <td>12th</td>\n",
       "      <td>Thomas High School</td>\n",
       "      <td>94.0</td>\n",
       "      <td>77.0</td>\n",
       "    </tr>\n",
       "    <tr>\n",
       "      <th>39163</th>\n",
       "      <td>39163</td>\n",
       "      <td>John Reese</td>\n",
       "      <td>M</td>\n",
       "      <td>11th</td>\n",
       "      <td>Thomas High School</td>\n",
       "      <td>90.0</td>\n",
       "      <td>75.0</td>\n",
       "    </tr>\n",
       "    <tr>\n",
       "      <th>39164</th>\n",
       "      <td>39164</td>\n",
       "      <td>Joseph Anthony</td>\n",
       "      <td>M</td>\n",
       "      <td>9th</td>\n",
       "      <td>Thomas High School</td>\n",
       "      <td>NaN</td>\n",
       "      <td>NaN</td>\n",
       "    </tr>\n",
       "    <tr>\n",
       "      <th>39165</th>\n",
       "      <td>39165</td>\n",
       "      <td>Donna Howard</td>\n",
       "      <td>F</td>\n",
       "      <td>12th</td>\n",
       "      <td>Thomas High School</td>\n",
       "      <td>99.0</td>\n",
       "      <td>90.0</td>\n",
       "    </tr>\n",
       "    <tr>\n",
       "      <th>39166</th>\n",
       "      <td>39166</td>\n",
       "      <td>Dawn Bell</td>\n",
       "      <td>F</td>\n",
       "      <td>10th</td>\n",
       "      <td>Thomas High School</td>\n",
       "      <td>95.0</td>\n",
       "      <td>70.0</td>\n",
       "    </tr>\n",
       "    <tr>\n",
       "      <th>39167</th>\n",
       "      <td>39167</td>\n",
       "      <td>Rebecca Tanner</td>\n",
       "      <td>F</td>\n",
       "      <td>9th</td>\n",
       "      <td>Thomas High School</td>\n",
       "      <td>NaN</td>\n",
       "      <td>NaN</td>\n",
       "    </tr>\n",
       "    <tr>\n",
       "      <th>39168</th>\n",
       "      <td>39168</td>\n",
       "      <td>Desiree Kidd</td>\n",
       "      <td>F</td>\n",
       "      <td>10th</td>\n",
       "      <td>Thomas High School</td>\n",
       "      <td>99.0</td>\n",
       "      <td>90.0</td>\n",
       "    </tr>\n",
       "    <tr>\n",
       "      <th>39169</th>\n",
       "      <td>39169</td>\n",
       "      <td>Carolyn Jackson</td>\n",
       "      <td>F</td>\n",
       "      <td>11th</td>\n",
       "      <td>Thomas High School</td>\n",
       "      <td>95.0</td>\n",
       "      <td>75.0</td>\n",
       "    </tr>\n",
       "  </tbody>\n",
       "</table>\n",
       "</div>"
      ],
      "text/plain": [
       "       Student ID     student_name gender grade         school_name  \\\n",
       "39160       39160     Katie Weaver      F  11th  Thomas High School   \n",
       "39161       39161      April Reyes      F  10th  Thomas High School   \n",
       "39162       39162      Derek Weeks      M  12th  Thomas High School   \n",
       "39163       39163       John Reese      M  11th  Thomas High School   \n",
       "39164       39164   Joseph Anthony      M   9th  Thomas High School   \n",
       "39165       39165     Donna Howard      F  12th  Thomas High School   \n",
       "39166       39166        Dawn Bell      F  10th  Thomas High School   \n",
       "39167       39167   Rebecca Tanner      F   9th  Thomas High School   \n",
       "39168       39168     Desiree Kidd      F  10th  Thomas High School   \n",
       "39169       39169  Carolyn Jackson      F  11th  Thomas High School   \n",
       "\n",
       "       reading_score  math_score  \n",
       "39160           89.0        86.0  \n",
       "39161           70.0        84.0  \n",
       "39162           94.0        77.0  \n",
       "39163           90.0        75.0  \n",
       "39164            NaN         NaN  \n",
       "39165           99.0        90.0  \n",
       "39166           95.0        70.0  \n",
       "39167            NaN         NaN  \n",
       "39168           99.0        90.0  \n",
       "39169           95.0        75.0  "
      ]
     },
     "execution_count": 5,
     "metadata": {},
     "output_type": "execute_result"
    }
   ],
   "source": [
    "#  Step 4. Check the student data for NaN's. \n",
    "\n",
    "student_data_df.tail(10)"
   ]
  },
  {
   "cell_type": "markdown",
   "id": "f01a12b4",
   "metadata": {},
   "source": [
    "## Deliverable 2 : Repeat the school district analysis"
   ]
  },
  {
   "cell_type": "markdown",
   "id": "010187ae",
   "metadata": {},
   "source": [
    "### District Summary"
   ]
  },
  {
   "cell_type": "code",
   "execution_count": 6,
   "id": "dd7551bd",
   "metadata": {},
   "outputs": [
    {
     "data": {
      "text/html": [
       "<div>\n",
       "<style scoped>\n",
       "    .dataframe tbody tr th:only-of-type {\n",
       "        vertical-align: middle;\n",
       "    }\n",
       "\n",
       "    .dataframe tbody tr th {\n",
       "        vertical-align: top;\n",
       "    }\n",
       "\n",
       "    .dataframe thead th {\n",
       "        text-align: right;\n",
       "    }\n",
       "</style>\n",
       "<table border=\"1\" class=\"dataframe\">\n",
       "  <thead>\n",
       "    <tr style=\"text-align: right;\">\n",
       "      <th></th>\n",
       "      <th>Student ID</th>\n",
       "      <th>student_name</th>\n",
       "      <th>gender</th>\n",
       "      <th>grade</th>\n",
       "      <th>school_name</th>\n",
       "      <th>reading_score</th>\n",
       "      <th>math_score</th>\n",
       "      <th>School ID</th>\n",
       "      <th>type</th>\n",
       "      <th>size</th>\n",
       "      <th>budget</th>\n",
       "    </tr>\n",
       "  </thead>\n",
       "  <tbody>\n",
       "    <tr>\n",
       "      <th>0</th>\n",
       "      <td>0</td>\n",
       "      <td>Paul Bradley</td>\n",
       "      <td>M</td>\n",
       "      <td>9th</td>\n",
       "      <td>Huang High School</td>\n",
       "      <td>66.0</td>\n",
       "      <td>79.0</td>\n",
       "      <td>0</td>\n",
       "      <td>District</td>\n",
       "      <td>2917</td>\n",
       "      <td>1910635</td>\n",
       "    </tr>\n",
       "    <tr>\n",
       "      <th>1</th>\n",
       "      <td>1</td>\n",
       "      <td>Victor Smith</td>\n",
       "      <td>M</td>\n",
       "      <td>12th</td>\n",
       "      <td>Huang High School</td>\n",
       "      <td>94.0</td>\n",
       "      <td>61.0</td>\n",
       "      <td>0</td>\n",
       "      <td>District</td>\n",
       "      <td>2917</td>\n",
       "      <td>1910635</td>\n",
       "    </tr>\n",
       "    <tr>\n",
       "      <th>2</th>\n",
       "      <td>2</td>\n",
       "      <td>Kevin Rodriguez</td>\n",
       "      <td>M</td>\n",
       "      <td>12th</td>\n",
       "      <td>Huang High School</td>\n",
       "      <td>90.0</td>\n",
       "      <td>60.0</td>\n",
       "      <td>0</td>\n",
       "      <td>District</td>\n",
       "      <td>2917</td>\n",
       "      <td>1910635</td>\n",
       "    </tr>\n",
       "    <tr>\n",
       "      <th>3</th>\n",
       "      <td>3</td>\n",
       "      <td>Richard Scott</td>\n",
       "      <td>M</td>\n",
       "      <td>12th</td>\n",
       "      <td>Huang High School</td>\n",
       "      <td>67.0</td>\n",
       "      <td>58.0</td>\n",
       "      <td>0</td>\n",
       "      <td>District</td>\n",
       "      <td>2917</td>\n",
       "      <td>1910635</td>\n",
       "    </tr>\n",
       "    <tr>\n",
       "      <th>4</th>\n",
       "      <td>4</td>\n",
       "      <td>Bonnie Ray</td>\n",
       "      <td>F</td>\n",
       "      <td>9th</td>\n",
       "      <td>Huang High School</td>\n",
       "      <td>97.0</td>\n",
       "      <td>84.0</td>\n",
       "      <td>0</td>\n",
       "      <td>District</td>\n",
       "      <td>2917</td>\n",
       "      <td>1910635</td>\n",
       "    </tr>\n",
       "  </tbody>\n",
       "</table>\n",
       "</div>"
      ],
      "text/plain": [
       "   Student ID     student_name gender grade        school_name  reading_score  \\\n",
       "0           0     Paul Bradley      M   9th  Huang High School           66.0   \n",
       "1           1     Victor Smith      M  12th  Huang High School           94.0   \n",
       "2           2  Kevin Rodriguez      M  12th  Huang High School           90.0   \n",
       "3           3    Richard Scott      M  12th  Huang High School           67.0   \n",
       "4           4       Bonnie Ray      F   9th  Huang High School           97.0   \n",
       "\n",
       "   math_score  School ID      type  size   budget  \n",
       "0        79.0          0  District  2917  1910635  \n",
       "1        61.0          0  District  2917  1910635  \n",
       "2        60.0          0  District  2917  1910635  \n",
       "3        58.0          0  District  2917  1910635  \n",
       "4        84.0          0  District  2917  1910635  "
      ]
     },
     "execution_count": 6,
     "metadata": {},
     "output_type": "execute_result"
    }
   ],
   "source": [
    "# Combine the data into a single dataset\n",
    "school_data_complete_df = pd.merge(student_data_df, school_data_df, how=\"left\", on=[\"school_name\", \"school_name\"])\n",
    "school_data_complete_df.head()"
   ]
  },
  {
   "cell_type": "code",
   "execution_count": 7,
   "id": "a45e8345",
   "metadata": {},
   "outputs": [],
   "source": [
    "# Calculate the Totals (Schools and Students)\n",
    "school_count = len(school_data_complete_df[\"school_name\"].unique())\n",
    "student_count = school_data_complete_df[\"Student ID\"].count()\n",
    "\n",
    "# Calculate the Total Budget\n",
    "total_budget = school_data_df[\"budget\"].sum()"
   ]
  },
  {
   "cell_type": "code",
   "execution_count": 8,
   "id": "9c1dcd1a",
   "metadata": {},
   "outputs": [],
   "source": [
    "# Calculate the Average Scores using the \"clean_student_data\".\n",
    "average_reading_score = school_data_complete_df[\"reading_score\"].mean()\n",
    "average_math_score = school_data_complete_df[\"math_score\"].mean()"
   ]
  },
  {
   "cell_type": "code",
   "execution_count": 9,
   "id": "f7233777",
   "metadata": {},
   "outputs": [
    {
     "name": "stdout",
     "output_type": "stream",
     "text": [
      "461\n",
      "39170\n",
      "38709\n"
     ]
    }
   ],
   "source": [
    "# Step 1. Get the number of students that are in ninth grade at Thomas High School.\n",
    "# These students have no grades. \n",
    "ninthgrade_students_THS = school_data_complete_df.loc[(school_data_complete_df[\"school_name\"]== \"Thomas High School\") \n",
    "                                                      & (school_data_complete_df[\"grade\"]==\"9th\"),\"student_name\"].count()\n",
    "print(ninthgrade_students_THS)\n",
    "\n",
    "# Get the total student count \n",
    "student_count = school_data_complete_df[\"Student ID\"].count()\n",
    "print(student_count)\n",
    "\n",
    "\n",
    "# Step 2. Subtract the number of students that are in ninth grade at \n",
    "# Thomas High School from the total student count to get the new total student count.\n",
    "                            \n",
    "new_total_student_count = student_count - ninthgrade_students_THS\n",
    "print(new_total_student_count)"
   ]
  },
  {
   "cell_type": "code",
   "execution_count": 10,
   "id": "6196ea12",
   "metadata": {},
   "outputs": [],
   "source": [
    "# Calculate the passing rates using the \"clean_student_data\".\n",
    "passing_math_count = school_data_complete_df[(school_data_complete_df[\"math_score\"] >= 70)].count()[\"student_name\"]\n",
    "passing_reading_count = school_data_complete_df[(school_data_complete_df[\"reading_score\"] >= 70)].count()[\"student_name\"]"
   ]
  },
  {
   "cell_type": "code",
   "execution_count": 11,
   "id": "a24eeb65",
   "metadata": {},
   "outputs": [
    {
     "name": "stdout",
     "output_type": "stream",
     "text": [
      "74.76039164018704\n",
      "85.6596657108166\n"
     ]
    }
   ],
   "source": [
    "# Step 3. Calculate the passing percentages with the new total student count.\n",
    "passing_math_percentage = passing_math_count/new_total_student_count*100\n",
    "passing_reading_percentage = passing_reading_count/new_total_student_count*100\n",
    "\n",
    "print(passing_math_percentage)\n",
    "print(passing_reading_percentage)"
   ]
  },
  {
   "cell_type": "code",
   "execution_count": 12,
   "id": "0d028b5d",
   "metadata": {},
   "outputs": [
    {
     "data": {
      "text/plain": [
       "64.85571830840374"
      ]
     },
     "execution_count": 12,
     "metadata": {},
     "output_type": "execute_result"
    }
   ],
   "source": [
    "# Calculate the students who passed both reading and math.\n",
    "passing_math_reading = school_data_complete_df[(school_data_complete_df[\"math_score\"] >= 70)\n",
    "                                               & (school_data_complete_df[\"reading_score\"] >= 70)]\n",
    "\n",
    "# Calculate the number of students that passed both reading and math.\n",
    "overall_passing_math_reading_count = passing_math_reading[\"student_name\"].count()\n",
    "\n",
    "\n",
    "# Step 4.Calculate the overall passing percentage with new total student count.\n",
    "overall_passing_percentage = overall_passing_math_reading_count / new_total_student_count*100\n",
    "overall_passing_percentage"
   ]
  },
  {
   "cell_type": "code",
   "execution_count": 13,
   "id": "0cbd1956",
   "metadata": {},
   "outputs": [
    {
     "data": {
      "text/html": [
       "<div>\n",
       "<style scoped>\n",
       "    .dataframe tbody tr th:only-of-type {\n",
       "        vertical-align: middle;\n",
       "    }\n",
       "\n",
       "    .dataframe tbody tr th {\n",
       "        vertical-align: top;\n",
       "    }\n",
       "\n",
       "    .dataframe thead th {\n",
       "        text-align: right;\n",
       "    }\n",
       "</style>\n",
       "<table border=\"1\" class=\"dataframe\">\n",
       "  <thead>\n",
       "    <tr style=\"text-align: right;\">\n",
       "      <th></th>\n",
       "      <th>Total Schools</th>\n",
       "      <th>Total Students</th>\n",
       "      <th>Total Budget</th>\n",
       "      <th>Average Math Score</th>\n",
       "      <th>Average Reading Score</th>\n",
       "      <th>% Passing Math</th>\n",
       "      <th>% Passing Reading</th>\n",
       "      <th>% Overall Passing</th>\n",
       "    </tr>\n",
       "  </thead>\n",
       "  <tbody>\n",
       "    <tr>\n",
       "      <th>0</th>\n",
       "      <td>15</td>\n",
       "      <td>39,170</td>\n",
       "      <td>$24,649,428.00</td>\n",
       "      <td>78.9</td>\n",
       "      <td>81.9</td>\n",
       "      <td>74.8</td>\n",
       "      <td>85.7</td>\n",
       "      <td>64.9</td>\n",
       "    </tr>\n",
       "  </tbody>\n",
       "</table>\n",
       "</div>"
      ],
      "text/plain": [
       "   Total Schools Total Students    Total Budget Average Math Score  \\\n",
       "0             15         39,170  $24,649,428.00               78.9   \n",
       "\n",
       "  Average Reading Score % Passing Math % Passing Reading % Overall Passing  \n",
       "0                  81.9           74.8              85.7              64.9  "
      ]
     },
     "execution_count": 13,
     "metadata": {},
     "output_type": "execute_result"
    }
   ],
   "source": [
    "# Create a DataFrame\n",
    "district_summary_df = pd.DataFrame(\n",
    "          [{\"Total Schools\": school_count, \n",
    "          \"Total Students\": student_count, \n",
    "          \"Total Budget\": total_budget,\n",
    "          \"Average Math Score\": average_math_score, \n",
    "          \"Average Reading Score\": average_reading_score,\n",
    "          \"% Passing Math\": passing_math_percentage,\n",
    "         \"% Passing Reading\": passing_reading_percentage,\n",
    "        \"% Overall Passing\": overall_passing_percentage}])\n",
    "\n",
    "\n",
    "\n",
    "# Format the \"Total Students\" to have the comma for a thousands separator.\n",
    "district_summary_df[\"Total Students\"] = district_summary_df[\"Total Students\"].map(\"{:,}\".format)\n",
    "# Format the \"Total Budget\" to have the comma for a thousands separator, a decimal separator and a \"$\".\n",
    "district_summary_df[\"Total Budget\"] = district_summary_df[\"Total Budget\"].map(\"${:,.2f}\".format)\n",
    "# Format the columns.\n",
    "district_summary_df[\"Average Math Score\"] = district_summary_df[\"Average Math Score\"].map(\"{:.1f}\".format)\n",
    "district_summary_df[\"Average Reading Score\"] = district_summary_df[\"Average Reading Score\"].map(\"{:.1f}\".format)\n",
    "district_summary_df[\"% Passing Math\"] = district_summary_df[\"% Passing Math\"].map(\"{:.1f}\".format)\n",
    "district_summary_df[\"% Passing Reading\"] = district_summary_df[\"% Passing Reading\"].map(\"{:.1f}\".format)\n",
    "district_summary_df[\"% Overall Passing\"] = district_summary_df[\"% Overall Passing\"].map(\"{:.1f}\".format)\n",
    "\n",
    "# Display the data frame\n",
    "district_summary_df"
   ]
  },
  {
   "cell_type": "markdown",
   "id": "7b353569",
   "metadata": {},
   "source": [
    "# School Summary"
   ]
  },
  {
   "cell_type": "code",
   "execution_count": 14,
   "id": "e0c5b05e",
   "metadata": {},
   "outputs": [],
   "source": [
    "# Determine the School Type\n",
    "per_school_types = school_data_df.set_index([\"school_name\"])[\"type\"]\n",
    "\n",
    "# Calculate the total student count.\n",
    "per_school_counts = school_data_complete_df[\"school_name\"].value_counts()\n",
    "\n",
    "# Calculate the total school budget and per capita spending\n",
    "per_school_budget = school_data_complete_df.groupby([\"school_name\"]).mean()[\"budget\"]\n",
    "# Calculate the per capita spending.\n",
    "per_school_capita = per_school_budget / per_school_counts\n",
    "\n",
    "# Calculate the average test scores.\n",
    "per_school_math = school_data_complete_df.groupby([\"school_name\"]).mean()[\"math_score\"]\n",
    "per_school_reading = school_data_complete_df.groupby([\"school_name\"]).mean()[\"reading_score\"]\n",
    "\n",
    "# Calculate the passing scores by creating a filtered DataFrame.\n",
    "per_school_passing_math = school_data_complete_df[(school_data_complete_df[\"math_score\"] >= 70)]\n",
    "per_school_passing_reading = school_data_complete_df[(school_data_complete_df[\"reading_score\"] >= 70)]\n",
    "\n",
    "# Calculate the number of students passing math and passing reading by school.\n",
    "per_school_passing_math = per_school_passing_math.groupby([\"school_name\"]).count()[\"student_name\"]\n",
    "per_school_passing_reading = per_school_passing_reading.groupby([\"school_name\"]).count()[\"student_name\"]\n",
    "\n",
    "# Calculate the percentage of passing math and reading scores per school.\n",
    "per_school_passing_math = per_school_passing_math / per_school_counts * 100\n",
    "per_school_passing_reading = per_school_passing_reading / per_school_counts * 100\n",
    "\n",
    "# Calculate the students who passed both reading and math.\n",
    "per_passing_math_reading = school_data_complete_df[(school_data_complete_df[\"reading_score\"] >= 70)\n",
    "                                               & (school_data_complete_df[\"math_score\"] >= 70)]\n",
    "\n",
    "# Calculate the number of students passing math and passing reading by school.\n",
    "per_passing_math_reading = per_passing_math_reading.groupby([\"school_name\"]).count()[\"student_name\"]\n",
    "\n",
    "# Calculate the percentage of passing math and reading scores per school.\n",
    "per_overall_passing_percentage = per_passing_math_reading / per_school_counts * 100"
   ]
  },
  {
   "cell_type": "code",
   "execution_count": 15,
   "id": "15d4b39e",
   "metadata": {},
   "outputs": [],
   "source": [
    "# Create the DataFrame\n",
    "per_school_summary_df = pd.DataFrame({\n",
    "    \"School Type\": per_school_types,\n",
    "    \"Total Students\": per_school_counts,\n",
    "    \"Total School Budget\": per_school_budget,\n",
    "    \"Per Student Budget\": per_school_capita,\n",
    "    \"Average Math Score\": per_school_math,\n",
    "    \"Average Reading Score\": per_school_reading,\n",
    "    \"% Passing Math\": per_school_passing_math,\n",
    "    \"% Passing Reading\": per_school_passing_reading,\n",
    "    \"% Overall Passing\": per_overall_passing_percentage})\n",
    "\n",
    "\n",
    "#per_school_summary_df.head()"
   ]
  },
  {
   "cell_type": "code",
   "execution_count": 16,
   "id": "8eda054d",
   "metadata": {},
   "outputs": [
    {
     "data": {
      "text/html": [
       "<div>\n",
       "<style scoped>\n",
       "    .dataframe tbody tr th:only-of-type {\n",
       "        vertical-align: middle;\n",
       "    }\n",
       "\n",
       "    .dataframe tbody tr th {\n",
       "        vertical-align: top;\n",
       "    }\n",
       "\n",
       "    .dataframe thead th {\n",
       "        text-align: right;\n",
       "    }\n",
       "</style>\n",
       "<table border=\"1\" class=\"dataframe\">\n",
       "  <thead>\n",
       "    <tr style=\"text-align: right;\">\n",
       "      <th></th>\n",
       "      <th>School Type</th>\n",
       "      <th>Total Students</th>\n",
       "      <th>Total School Budget</th>\n",
       "      <th>Per Student Budget</th>\n",
       "      <th>Average Math Score</th>\n",
       "      <th>Average Reading Score</th>\n",
       "      <th>% Passing Math</th>\n",
       "      <th>% Passing Reading</th>\n",
       "      <th>% Overall Passing</th>\n",
       "    </tr>\n",
       "  </thead>\n",
       "  <tbody>\n",
       "    <tr>\n",
       "      <th>Thomas High School</th>\n",
       "      <td>Charter</td>\n",
       "      <td>1635</td>\n",
       "      <td>$1,043,130.00</td>\n",
       "      <td>$638.00</td>\n",
       "      <td>83.350937</td>\n",
       "      <td>83.896082</td>\n",
       "      <td>66.911315</td>\n",
       "      <td>69.663609</td>\n",
       "      <td>65.076453</td>\n",
       "    </tr>\n",
       "    <tr>\n",
       "      <th>Wilson High School</th>\n",
       "      <td>Charter</td>\n",
       "      <td>2283</td>\n",
       "      <td>$1,319,574.00</td>\n",
       "      <td>$578.00</td>\n",
       "      <td>83.274201</td>\n",
       "      <td>83.989488</td>\n",
       "      <td>93.867718</td>\n",
       "      <td>96.539641</td>\n",
       "      <td>90.582567</td>\n",
       "    </tr>\n",
       "    <tr>\n",
       "      <th>Wright High School</th>\n",
       "      <td>Charter</td>\n",
       "      <td>1800</td>\n",
       "      <td>$1,049,400.00</td>\n",
       "      <td>$583.00</td>\n",
       "      <td>83.682222</td>\n",
       "      <td>83.955000</td>\n",
       "      <td>93.333333</td>\n",
       "      <td>96.611111</td>\n",
       "      <td>90.333333</td>\n",
       "    </tr>\n",
       "  </tbody>\n",
       "</table>\n",
       "</div>"
      ],
      "text/plain": [
       "                   School Type  Total Students Total School Budget  \\\n",
       "Thomas High School     Charter            1635       $1,043,130.00   \n",
       "Wilson High School     Charter            2283       $1,319,574.00   \n",
       "Wright High School     Charter            1800       $1,049,400.00   \n",
       "\n",
       "                   Per Student Budget  Average Math Score  \\\n",
       "Thomas High School            $638.00           83.350937   \n",
       "Wilson High School            $578.00           83.274201   \n",
       "Wright High School            $583.00           83.682222   \n",
       "\n",
       "                    Average Reading Score  % Passing Math  % Passing Reading  \\\n",
       "Thomas High School              83.896082       66.911315          69.663609   \n",
       "Wilson High School              83.989488       93.867718          96.539641   \n",
       "Wright High School              83.955000       93.333333          96.611111   \n",
       "\n",
       "                    % Overall Passing  \n",
       "Thomas High School          65.076453  \n",
       "Wilson High School          90.582567  \n",
       "Wright High School          90.333333  "
      ]
     },
     "execution_count": 16,
     "metadata": {},
     "output_type": "execute_result"
    }
   ],
   "source": [
    "# Format the Total School Budget and the Per Student Budget\n",
    "per_school_summary_df[\"Total School Budget\"] = per_school_summary_df[\"Total School Budget\"].map(\"${:,.2f}\".format)\n",
    "per_school_summary_df[\"Per Student Budget\"] = per_school_summary_df[\"Per Student Budget\"].map(\"${:,.2f}\".format)\n",
    "\n",
    "# Display the data frame\n",
    "per_school_summary_df.tail(3)"
   ]
  },
  {
   "cell_type": "code",
   "execution_count": 17,
   "id": "87122c1b",
   "metadata": {},
   "outputs": [
    {
     "data": {
      "text/plain": [
       "1174"
      ]
     },
     "execution_count": 17,
     "metadata": {},
     "output_type": "execute_result"
    }
   ],
   "source": [
    "# Step 5.  Get the number of 10th-12th graders from Thomas High School (THS).\n",
    "graders_THS = student_data_df.loc[(student_data_df[\"school_name\"] == \"Thomas High School\")\n",
    "                                    & ((student_data_df[\"grade\"] == \"10th\") | (student_data_df[\"grade\"] == \"11th\") | (student_data_df[\"grade\"] == \"12th\"))][\"grade\"].count()\n",
    "graders_THS"
   ]
  },
  {
   "cell_type": "code",
   "execution_count": 18,
   "id": "77a6e94c",
   "metadata": {},
   "outputs": [
    {
     "data": {
      "text/plain": [
       "Student ID       1094\n",
       "student_name     1094\n",
       "gender           1094\n",
       "grade            1094\n",
       "school_name      1094\n",
       "reading_score    1094\n",
       "math_score       1094\n",
       "dtype: int64"
      ]
     },
     "execution_count": 18,
     "metadata": {},
     "output_type": "execute_result"
    }
   ],
   "source": [
    "# Step 6. Get all the students passing math from THS\n",
    "passing_math_THS_df = student_data_df.loc[(student_data_df[\"math_score\"] >= 70)\n",
    "                                          & (student_data_df[\"school_name\"] == \"Thomas High School\") \n",
    "                                          & ((student_data_df[\"grade\"] == \"10th\") | (student_data_df[\"grade\"] == \"11th\") | (student_data_df[\"grade\"] == \"12th\"))].count()\n",
    "passing_math_THS_df"
   ]
  },
  {
   "cell_type": "code",
   "execution_count": 19,
   "id": "fb52d1f5",
   "metadata": {},
   "outputs": [
    {
     "data": {
      "text/plain": [
       "Student ID       1139\n",
       "student_name     1139\n",
       "gender           1139\n",
       "grade            1139\n",
       "school_name      1139\n",
       "reading_score    1139\n",
       "math_score       1139\n",
       "dtype: int64"
      ]
     },
     "execution_count": 19,
     "metadata": {},
     "output_type": "execute_result"
    }
   ],
   "source": [
    "# Step 7. Get all the students passing reading from THS\n",
    "passing_reading_THS_df = student_data_df.loc[(student_data_df[\"reading_score\"] >= 70) \n",
    "                                             & (student_data_df[\"school_name\"] == \"Thomas High School\")\n",
    "                                             & ((student_data_df[\"grade\"] == \"10th\") | (student_data_df[\"grade\"] == \"11th\") | (student_data_df[\"grade\"] == \"12th\"))].count()\n",
    "passing_reading_THS_df"
   ]
  },
  {
   "cell_type": "code",
   "execution_count": 20,
   "id": "f4daa495",
   "metadata": {},
   "outputs": [
    {
     "data": {
      "text/plain": [
       "Student ID       1064\n",
       "student_name     1064\n",
       "gender           1064\n",
       "grade            1064\n",
       "school_name      1064\n",
       "reading_score    1064\n",
       "math_score       1064\n",
       "dtype: int64"
      ]
     },
     "execution_count": 20,
     "metadata": {},
     "output_type": "execute_result"
    }
   ],
   "source": [
    "# Step 8. Get all the students passing math and reading from THS\n",
    "passing_math_reading_THS_df = student_data_df.loc[(student_data_df[\"math_score\"] >= 70)\n",
    "                                           & (student_data_df[\"reading_score\"] >= 70)\n",
    "                                           & (student_data_df[\"school_name\"] == \"Thomas High School\") \n",
    "                                           & ((student_data_df[\"grade\"] == \"10th\") | (student_data_df[\"grade\"] == \"11th\") | (student_data_df[\"grade\"] == \"12th\"))].count()\n",
    "passing_math_reading_THS_df"
   ]
  },
  {
   "cell_type": "code",
   "execution_count": 21,
   "id": "1e13170f",
   "metadata": {},
   "outputs": [
    {
     "data": {
      "text/plain": [
       "93.18568994889267"
      ]
     },
     "execution_count": 21,
     "metadata": {},
     "output_type": "execute_result"
    }
   ],
   "source": [
    "# Step 9. Calculate the percentage of 10th-12th grade students passing math from Thomas High School. \n",
    "passing_math_percentage_THS = passing_math_THS_df[\"math_score\"]/graders_THS *100\n",
    "passing_math_percentage_THS"
   ]
  },
  {
   "cell_type": "code",
   "execution_count": 22,
   "id": "0b5e4755",
   "metadata": {},
   "outputs": [
    {
     "data": {
      "text/plain": [
       "97.01873935264055"
      ]
     },
     "execution_count": 22,
     "metadata": {},
     "output_type": "execute_result"
    }
   ],
   "source": [
    "# Step 10. Calculate the percentage of 10th-12th grade students passing reading from Thomas High School.\n",
    "passing_reading_percentage_THS = passing_reading_THS_df[\"reading_score\"]/graders_THS *100\n",
    "passing_reading_percentage_THS"
   ]
  },
  {
   "cell_type": "code",
   "execution_count": 23,
   "id": "7ac3d917",
   "metadata": {},
   "outputs": [
    {
     "data": {
      "text/plain": [
       "90.63032367972743"
      ]
     },
     "execution_count": 23,
     "metadata": {},
     "output_type": "execute_result"
    }
   ],
   "source": [
    "# Step 11. Calculate the overall passing percentage of 10th-12th grade from Thomas High School. \n",
    "overall_passing_percentage_THS = passing_math_reading_THS_df[\"student_name\"]/graders_THS *100\n",
    "overall_passing_percentage_THS"
   ]
  },
  {
   "cell_type": "code",
   "execution_count": 24,
   "id": "099b8ae9",
   "metadata": {},
   "outputs": [
    {
     "data": {
      "text/plain": [
       "93.18568994889267"
      ]
     },
     "execution_count": 24,
     "metadata": {},
     "output_type": "execute_result"
    }
   ],
   "source": [
    "# Step 12. Replace the passing math percent for Thomas High School in the per_school_summary_df.\n",
    "per_school_summary_df.loc[[\"Thomas High School\"],[\"% Passing Math\"]] = passing_math_percentage_THS\n",
    "passing_math_percentage_THS"
   ]
  },
  {
   "cell_type": "code",
   "execution_count": 25,
   "id": "bd6f3393",
   "metadata": {},
   "outputs": [
    {
     "data": {
      "text/plain": [
       "97.01873935264055"
      ]
     },
     "execution_count": 25,
     "metadata": {},
     "output_type": "execute_result"
    }
   ],
   "source": [
    "# Step 13. Replace the passing reading percentage for Thomas High School in the per_school_summary_df.\n",
    "per_school_summary_df.loc[[\"Thomas High School\"],[\"% Passing Reading\"]] = passing_reading_percentage_THS\n",
    "passing_reading_percentage_THS"
   ]
  },
  {
   "cell_type": "code",
   "execution_count": 26,
   "id": "db7c8cea",
   "metadata": {},
   "outputs": [
    {
     "data": {
      "text/plain": [
       "90.63032367972743"
      ]
     },
     "execution_count": 26,
     "metadata": {},
     "output_type": "execute_result"
    }
   ],
   "source": [
    "# Step 14. Replace the overall passing percentage for Thomas High School in the per_school_summary_df.\n",
    "per_school_summary_df.loc[[\"Thomas High School\"],[\"% Overall Passing\"]] = overall_passing_percentage_THS\n",
    "overall_passing_percentage_THS"
   ]
  },
  {
   "cell_type": "code",
   "execution_count": 27,
   "id": "51981478",
   "metadata": {},
   "outputs": [
    {
     "data": {
      "text/html": [
       "<div>\n",
       "<style scoped>\n",
       "    .dataframe tbody tr th:only-of-type {\n",
       "        vertical-align: middle;\n",
       "    }\n",
       "\n",
       "    .dataframe tbody tr th {\n",
       "        vertical-align: top;\n",
       "    }\n",
       "\n",
       "    .dataframe thead th {\n",
       "        text-align: right;\n",
       "    }\n",
       "</style>\n",
       "<table border=\"1\" class=\"dataframe\">\n",
       "  <thead>\n",
       "    <tr style=\"text-align: right;\">\n",
       "      <th></th>\n",
       "      <th>School Type</th>\n",
       "      <th>Total Students</th>\n",
       "      <th>Total School Budget</th>\n",
       "      <th>Per Student Budget</th>\n",
       "      <th>Average Math Score</th>\n",
       "      <th>Average Reading Score</th>\n",
       "      <th>% Passing Math</th>\n",
       "      <th>% Passing Reading</th>\n",
       "      <th>% Overall Passing</th>\n",
       "    </tr>\n",
       "  </thead>\n",
       "  <tbody>\n",
       "    <tr>\n",
       "      <th>Thomas High School</th>\n",
       "      <td>Charter</td>\n",
       "      <td>1635</td>\n",
       "      <td>$1,043,130.00</td>\n",
       "      <td>$638.00</td>\n",
       "      <td>83.350937</td>\n",
       "      <td>83.896082</td>\n",
       "      <td>93.185690</td>\n",
       "      <td>97.018739</td>\n",
       "      <td>90.630324</td>\n",
       "    </tr>\n",
       "    <tr>\n",
       "      <th>Wilson High School</th>\n",
       "      <td>Charter</td>\n",
       "      <td>2283</td>\n",
       "      <td>$1,319,574.00</td>\n",
       "      <td>$578.00</td>\n",
       "      <td>83.274201</td>\n",
       "      <td>83.989488</td>\n",
       "      <td>93.867718</td>\n",
       "      <td>96.539641</td>\n",
       "      <td>90.582567</td>\n",
       "    </tr>\n",
       "    <tr>\n",
       "      <th>Wright High School</th>\n",
       "      <td>Charter</td>\n",
       "      <td>1800</td>\n",
       "      <td>$1,049,400.00</td>\n",
       "      <td>$583.00</td>\n",
       "      <td>83.682222</td>\n",
       "      <td>83.955000</td>\n",
       "      <td>93.333333</td>\n",
       "      <td>96.611111</td>\n",
       "      <td>90.333333</td>\n",
       "    </tr>\n",
       "  </tbody>\n",
       "</table>\n",
       "</div>"
      ],
      "text/plain": [
       "                   School Type  Total Students Total School Budget  \\\n",
       "Thomas High School     Charter            1635       $1,043,130.00   \n",
       "Wilson High School     Charter            2283       $1,319,574.00   \n",
       "Wright High School     Charter            1800       $1,049,400.00   \n",
       "\n",
       "                   Per Student Budget  Average Math Score  \\\n",
       "Thomas High School            $638.00           83.350937   \n",
       "Wilson High School            $578.00           83.274201   \n",
       "Wright High School            $583.00           83.682222   \n",
       "\n",
       "                    Average Reading Score  % Passing Math  % Passing Reading  \\\n",
       "Thomas High School              83.896082       93.185690          97.018739   \n",
       "Wilson High School              83.989488       93.867718          96.539641   \n",
       "Wright High School              83.955000       93.333333          96.611111   \n",
       "\n",
       "                    % Overall Passing  \n",
       "Thomas High School          90.630324  \n",
       "Wilson High School          90.582567  \n",
       "Wright High School          90.333333  "
      ]
     },
     "execution_count": 27,
     "metadata": {},
     "output_type": "execute_result"
    }
   ],
   "source": [
    "per_school_summary_df.tail(3)"
   ]
  },
  {
   "cell_type": "markdown",
   "id": "427f1ba5",
   "metadata": {},
   "source": [
    "## High and Low Performing Schools "
   ]
  },
  {
   "cell_type": "code",
   "execution_count": 28,
   "id": "d9e84b41",
   "metadata": {},
   "outputs": [
    {
     "data": {
      "text/html": [
       "<div>\n",
       "<style scoped>\n",
       "    .dataframe tbody tr th:only-of-type {\n",
       "        vertical-align: middle;\n",
       "    }\n",
       "\n",
       "    .dataframe tbody tr th {\n",
       "        vertical-align: top;\n",
       "    }\n",
       "\n",
       "    .dataframe thead th {\n",
       "        text-align: right;\n",
       "    }\n",
       "</style>\n",
       "<table border=\"1\" class=\"dataframe\">\n",
       "  <thead>\n",
       "    <tr style=\"text-align: right;\">\n",
       "      <th></th>\n",
       "      <th>School Type</th>\n",
       "      <th>Total Students</th>\n",
       "      <th>Total School Budget</th>\n",
       "      <th>Per Student Budget</th>\n",
       "      <th>Average Math Score</th>\n",
       "      <th>Average Reading Score</th>\n",
       "      <th>% Passing Math</th>\n",
       "      <th>% Passing Reading</th>\n",
       "      <th>% Overall Passing</th>\n",
       "    </tr>\n",
       "  </thead>\n",
       "  <tbody>\n",
       "    <tr>\n",
       "      <th>Cabrera High School</th>\n",
       "      <td>Charter</td>\n",
       "      <td>1858</td>\n",
       "      <td>$1,081,356.00</td>\n",
       "      <td>$582.00</td>\n",
       "      <td>83.061895</td>\n",
       "      <td>83.975780</td>\n",
       "      <td>94.133477</td>\n",
       "      <td>97.039828</td>\n",
       "      <td>91.334769</td>\n",
       "    </tr>\n",
       "    <tr>\n",
       "      <th>Thomas High School</th>\n",
       "      <td>Charter</td>\n",
       "      <td>1635</td>\n",
       "      <td>$1,043,130.00</td>\n",
       "      <td>$638.00</td>\n",
       "      <td>83.350937</td>\n",
       "      <td>83.896082</td>\n",
       "      <td>93.185690</td>\n",
       "      <td>97.018739</td>\n",
       "      <td>90.630324</td>\n",
       "    </tr>\n",
       "    <tr>\n",
       "      <th>Griffin High School</th>\n",
       "      <td>Charter</td>\n",
       "      <td>1468</td>\n",
       "      <td>$917,500.00</td>\n",
       "      <td>$625.00</td>\n",
       "      <td>83.351499</td>\n",
       "      <td>83.816757</td>\n",
       "      <td>93.392371</td>\n",
       "      <td>97.138965</td>\n",
       "      <td>90.599455</td>\n",
       "    </tr>\n",
       "    <tr>\n",
       "      <th>Wilson High School</th>\n",
       "      <td>Charter</td>\n",
       "      <td>2283</td>\n",
       "      <td>$1,319,574.00</td>\n",
       "      <td>$578.00</td>\n",
       "      <td>83.274201</td>\n",
       "      <td>83.989488</td>\n",
       "      <td>93.867718</td>\n",
       "      <td>96.539641</td>\n",
       "      <td>90.582567</td>\n",
       "    </tr>\n",
       "    <tr>\n",
       "      <th>Pena High School</th>\n",
       "      <td>Charter</td>\n",
       "      <td>962</td>\n",
       "      <td>$585,858.00</td>\n",
       "      <td>$609.00</td>\n",
       "      <td>83.839917</td>\n",
       "      <td>84.044699</td>\n",
       "      <td>94.594595</td>\n",
       "      <td>95.945946</td>\n",
       "      <td>90.540541</td>\n",
       "    </tr>\n",
       "  </tbody>\n",
       "</table>\n",
       "</div>"
      ],
      "text/plain": [
       "                    School Type  Total Students Total School Budget  \\\n",
       "Cabrera High School     Charter            1858       $1,081,356.00   \n",
       "Thomas High School      Charter            1635       $1,043,130.00   \n",
       "Griffin High School     Charter            1468         $917,500.00   \n",
       "Wilson High School      Charter            2283       $1,319,574.00   \n",
       "Pena High School        Charter             962         $585,858.00   \n",
       "\n",
       "                    Per Student Budget  Average Math Score  \\\n",
       "Cabrera High School            $582.00           83.061895   \n",
       "Thomas High School             $638.00           83.350937   \n",
       "Griffin High School            $625.00           83.351499   \n",
       "Wilson High School             $578.00           83.274201   \n",
       "Pena High School               $609.00           83.839917   \n",
       "\n",
       "                     Average Reading Score  % Passing Math  % Passing Reading  \\\n",
       "Cabrera High School              83.975780       94.133477          97.039828   \n",
       "Thomas High School               83.896082       93.185690          97.018739   \n",
       "Griffin High School              83.816757       93.392371          97.138965   \n",
       "Wilson High School               83.989488       93.867718          96.539641   \n",
       "Pena High School                 84.044699       94.594595          95.945946   \n",
       "\n",
       "                     % Overall Passing  \n",
       "Cabrera High School          91.334769  \n",
       "Thomas High School           90.630324  \n",
       "Griffin High School          90.599455  \n",
       "Wilson High School           90.582567  \n",
       "Pena High School             90.540541  "
      ]
     },
     "execution_count": 28,
     "metadata": {},
     "output_type": "execute_result"
    }
   ],
   "source": [
    "# Sort and show top five schools.\n",
    "top_five_schools_df = per_school_summary_df.sort_values([\"% Overall Passing\"],ascending = False)\n",
    "top_five_schools_df.head(5)"
   ]
  },
  {
   "cell_type": "code",
   "execution_count": 29,
   "id": "e62f7a22",
   "metadata": {},
   "outputs": [
    {
     "data": {
      "text/html": [
       "<div>\n",
       "<style scoped>\n",
       "    .dataframe tbody tr th:only-of-type {\n",
       "        vertical-align: middle;\n",
       "    }\n",
       "\n",
       "    .dataframe tbody tr th {\n",
       "        vertical-align: top;\n",
       "    }\n",
       "\n",
       "    .dataframe thead th {\n",
       "        text-align: right;\n",
       "    }\n",
       "</style>\n",
       "<table border=\"1\" class=\"dataframe\">\n",
       "  <thead>\n",
       "    <tr style=\"text-align: right;\">\n",
       "      <th></th>\n",
       "      <th>School Type</th>\n",
       "      <th>Total Students</th>\n",
       "      <th>Total School Budget</th>\n",
       "      <th>Per Student Budget</th>\n",
       "      <th>Average Math Score</th>\n",
       "      <th>Average Reading Score</th>\n",
       "      <th>% Passing Math</th>\n",
       "      <th>% Passing Reading</th>\n",
       "      <th>% Overall Passing</th>\n",
       "    </tr>\n",
       "  </thead>\n",
       "  <tbody>\n",
       "    <tr>\n",
       "      <th>Rodriguez High School</th>\n",
       "      <td>District</td>\n",
       "      <td>3999</td>\n",
       "      <td>$2,547,363.00</td>\n",
       "      <td>$637.00</td>\n",
       "      <td>76.842711</td>\n",
       "      <td>80.744686</td>\n",
       "      <td>66.366592</td>\n",
       "      <td>80.220055</td>\n",
       "      <td>52.988247</td>\n",
       "    </tr>\n",
       "    <tr>\n",
       "      <th>Figueroa High School</th>\n",
       "      <td>District</td>\n",
       "      <td>2949</td>\n",
       "      <td>$1,884,411.00</td>\n",
       "      <td>$639.00</td>\n",
       "      <td>76.711767</td>\n",
       "      <td>81.158020</td>\n",
       "      <td>65.988471</td>\n",
       "      <td>80.739234</td>\n",
       "      <td>53.204476</td>\n",
       "    </tr>\n",
       "    <tr>\n",
       "      <th>Huang High School</th>\n",
       "      <td>District</td>\n",
       "      <td>2917</td>\n",
       "      <td>$1,910,635.00</td>\n",
       "      <td>$655.00</td>\n",
       "      <td>76.629414</td>\n",
       "      <td>81.182722</td>\n",
       "      <td>65.683922</td>\n",
       "      <td>81.316421</td>\n",
       "      <td>53.513884</td>\n",
       "    </tr>\n",
       "    <tr>\n",
       "      <th>Hernandez High School</th>\n",
       "      <td>District</td>\n",
       "      <td>4635</td>\n",
       "      <td>$3,022,020.00</td>\n",
       "      <td>$652.00</td>\n",
       "      <td>77.289752</td>\n",
       "      <td>80.934412</td>\n",
       "      <td>66.752967</td>\n",
       "      <td>80.862999</td>\n",
       "      <td>53.527508</td>\n",
       "    </tr>\n",
       "    <tr>\n",
       "      <th>Johnson High School</th>\n",
       "      <td>District</td>\n",
       "      <td>4761</td>\n",
       "      <td>$3,094,650.00</td>\n",
       "      <td>$650.00</td>\n",
       "      <td>77.072464</td>\n",
       "      <td>80.966394</td>\n",
       "      <td>66.057551</td>\n",
       "      <td>81.222432</td>\n",
       "      <td>53.539172</td>\n",
       "    </tr>\n",
       "  </tbody>\n",
       "</table>\n",
       "</div>"
      ],
      "text/plain": [
       "                      School Type  Total Students Total School Budget  \\\n",
       "Rodriguez High School    District            3999       $2,547,363.00   \n",
       "Figueroa High School     District            2949       $1,884,411.00   \n",
       "Huang High School        District            2917       $1,910,635.00   \n",
       "Hernandez High School    District            4635       $3,022,020.00   \n",
       "Johnson High School      District            4761       $3,094,650.00   \n",
       "\n",
       "                      Per Student Budget  Average Math Score  \\\n",
       "Rodriguez High School            $637.00           76.842711   \n",
       "Figueroa High School             $639.00           76.711767   \n",
       "Huang High School                $655.00           76.629414   \n",
       "Hernandez High School            $652.00           77.289752   \n",
       "Johnson High School              $650.00           77.072464   \n",
       "\n",
       "                       Average Reading Score  % Passing Math  \\\n",
       "Rodriguez High School              80.744686       66.366592   \n",
       "Figueroa High School               81.158020       65.988471   \n",
       "Huang High School                  81.182722       65.683922   \n",
       "Hernandez High School              80.934412       66.752967   \n",
       "Johnson High School                80.966394       66.057551   \n",
       "\n",
       "                       % Passing Reading  % Overall Passing  \n",
       "Rodriguez High School          80.220055          52.988247  \n",
       "Figueroa High School           80.739234          53.204476  \n",
       "Huang High School              81.316421          53.513884  \n",
       "Hernandez High School          80.862999          53.527508  \n",
       "Johnson High School            81.222432          53.539172  "
      ]
     },
     "execution_count": 29,
     "metadata": {},
     "output_type": "execute_result"
    }
   ],
   "source": [
    "# Sort and show bottom five schools.\n",
    "bottom_five_schools_df = per_school_summary_df.sort_values([\"% Overall Passing\"],ascending = True)\n",
    "bottom_five_schools_df.head(5)"
   ]
  },
  {
   "cell_type": "markdown",
   "id": "66b06377",
   "metadata": {},
   "source": [
    "## Math and Reading Scores by Grade"
   ]
  },
  {
   "cell_type": "code",
   "execution_count": 30,
   "id": "db6e6319",
   "metadata": {},
   "outputs": [],
   "source": [
    "# Create a Series of scores by grade levels using conditionals.\n",
    "ninth_graders = school_data_complete_df[(school_data_complete_df[\"grade\"] == \"9th\")]\n",
    "tenth_graders = school_data_complete_df[(school_data_complete_df[\"grade\"] == \"10th\")]\n",
    "eleventh_graders = school_data_complete_df[(school_data_complete_df[\"grade\"] == \"11th\")]\n",
    "twelfth_graders = school_data_complete_df[(school_data_complete_df[\"grade\"] == \"12th\")]\n",
    "\n",
    "\n",
    "# Group each school Series by the school name for the average math score.\n",
    "ninth_grade_math_scores = ninth_graders.groupby([\"school_name\"]).mean()[\"math_score\"]\n",
    "tenth_grade_math_scores = tenth_graders.groupby([\"school_name\"]).mean()[\"math_score\"]\n",
    "eleventh_grade_math_scores = eleventh_graders.groupby([\"school_name\"]).mean()[\"math_score\"]\n",
    "twelfth_grade_math_scores = twelfth_graders.groupby([\"school_name\"]).mean()[\"math_score\"]\n",
    "\n",
    "# Group each school Series by the school name for the average reading score.\n",
    "ninth_grade_reading_scores = ninth_graders.groupby([\"school_name\"]).mean()[\"reading_score\"]\n",
    "tenth_grade_reading_scores = tenth_graders.groupby([\"school_name\"]).mean()[\"reading_score\"]\n",
    "eleventh_grade_reading_scores =eleventh_graders.groupby([\"school_name\"]).mean()[\"reading_score\"]\n",
    "twelfth_grade_reading_scores = twelfth_graders.groupby([\"school_name\"]).mean()[\"reading_score\"]\n"
   ]
  },
  {
   "cell_type": "code",
   "execution_count": 31,
   "id": "0e7a7533",
   "metadata": {},
   "outputs": [
    {
     "data": {
      "text/html": [
       "<div>\n",
       "<style scoped>\n",
       "    .dataframe tbody tr th:only-of-type {\n",
       "        vertical-align: middle;\n",
       "    }\n",
       "\n",
       "    .dataframe tbody tr th {\n",
       "        vertical-align: top;\n",
       "    }\n",
       "\n",
       "    .dataframe thead th {\n",
       "        text-align: right;\n",
       "    }\n",
       "</style>\n",
       "<table border=\"1\" class=\"dataframe\">\n",
       "  <thead>\n",
       "    <tr style=\"text-align: right;\">\n",
       "      <th></th>\n",
       "      <th>9th</th>\n",
       "      <th>10th</th>\n",
       "      <th>11th</th>\n",
       "      <th>12th</th>\n",
       "    </tr>\n",
       "    <tr>\n",
       "      <th>school_name</th>\n",
       "      <th></th>\n",
       "      <th></th>\n",
       "      <th></th>\n",
       "      <th></th>\n",
       "    </tr>\n",
       "  </thead>\n",
       "  <tbody>\n",
       "    <tr>\n",
       "      <th>Bailey High School</th>\n",
       "      <td>77.083676</td>\n",
       "      <td>76.996772</td>\n",
       "      <td>77.515588</td>\n",
       "      <td>76.492218</td>\n",
       "    </tr>\n",
       "    <tr>\n",
       "      <th>Cabrera High School</th>\n",
       "      <td>83.094697</td>\n",
       "      <td>83.154506</td>\n",
       "      <td>82.765560</td>\n",
       "      <td>83.277487</td>\n",
       "    </tr>\n",
       "    <tr>\n",
       "      <th>Figueroa High School</th>\n",
       "      <td>76.403037</td>\n",
       "      <td>76.539974</td>\n",
       "      <td>76.884344</td>\n",
       "      <td>77.151369</td>\n",
       "    </tr>\n",
       "    <tr>\n",
       "      <th>Ford High School</th>\n",
       "      <td>77.361345</td>\n",
       "      <td>77.672316</td>\n",
       "      <td>76.918058</td>\n",
       "      <td>76.179963</td>\n",
       "    </tr>\n",
       "    <tr>\n",
       "      <th>Griffin High School</th>\n",
       "      <td>82.044010</td>\n",
       "      <td>84.229064</td>\n",
       "      <td>83.842105</td>\n",
       "      <td>83.356164</td>\n",
       "    </tr>\n",
       "  </tbody>\n",
       "</table>\n",
       "</div>"
      ],
      "text/plain": [
       "                            9th       10th       11th       12th\n",
       "school_name                                                     \n",
       "Bailey High School    77.083676  76.996772  77.515588  76.492218\n",
       "Cabrera High School   83.094697  83.154506  82.765560  83.277487\n",
       "Figueroa High School  76.403037  76.539974  76.884344  77.151369\n",
       "Ford High School      77.361345  77.672316  76.918058  76.179963\n",
       "Griffin High School   82.044010  84.229064  83.842105  83.356164"
      ]
     },
     "execution_count": 31,
     "metadata": {},
     "output_type": "execute_result"
    }
   ],
   "source": [
    "# Combine each Series for average math scores by school into single data frame.\n",
    "math_scores_by_grade = pd.DataFrame({\n",
    "               \"9th\": ninth_grade_math_scores,\n",
    "               \"10th\": tenth_grade_math_scores,\n",
    "               \"11th\": eleventh_grade_math_scores,\n",
    "               \"12th\": twelfth_grade_math_scores})\n",
    "\n",
    "math_scores_by_grade.head()"
   ]
  },
  {
   "cell_type": "code",
   "execution_count": 32,
   "id": "09c35c43",
   "metadata": {},
   "outputs": [
    {
     "data": {
      "text/html": [
       "<div>\n",
       "<style scoped>\n",
       "    .dataframe tbody tr th:only-of-type {\n",
       "        vertical-align: middle;\n",
       "    }\n",
       "\n",
       "    .dataframe tbody tr th {\n",
       "        vertical-align: top;\n",
       "    }\n",
       "\n",
       "    .dataframe thead th {\n",
       "        text-align: right;\n",
       "    }\n",
       "</style>\n",
       "<table border=\"1\" class=\"dataframe\">\n",
       "  <thead>\n",
       "    <tr style=\"text-align: right;\">\n",
       "      <th></th>\n",
       "      <th>9th</th>\n",
       "      <th>10th</th>\n",
       "      <th>11th</th>\n",
       "      <th>12th</th>\n",
       "    </tr>\n",
       "    <tr>\n",
       "      <th>school_name</th>\n",
       "      <th></th>\n",
       "      <th></th>\n",
       "      <th></th>\n",
       "      <th></th>\n",
       "    </tr>\n",
       "  </thead>\n",
       "  <tbody>\n",
       "    <tr>\n",
       "      <th>Bailey High School</th>\n",
       "      <td>81.303155</td>\n",
       "      <td>80.907183</td>\n",
       "      <td>80.945643</td>\n",
       "      <td>80.912451</td>\n",
       "    </tr>\n",
       "    <tr>\n",
       "      <th>Cabrera High School</th>\n",
       "      <td>83.676136</td>\n",
       "      <td>84.253219</td>\n",
       "      <td>83.788382</td>\n",
       "      <td>84.287958</td>\n",
       "    </tr>\n",
       "    <tr>\n",
       "      <th>Figueroa High School</th>\n",
       "      <td>81.198598</td>\n",
       "      <td>81.408912</td>\n",
       "      <td>80.640339</td>\n",
       "      <td>81.384863</td>\n",
       "    </tr>\n",
       "    <tr>\n",
       "      <th>Ford High School</th>\n",
       "      <td>80.632653</td>\n",
       "      <td>81.262712</td>\n",
       "      <td>80.403642</td>\n",
       "      <td>80.662338</td>\n",
       "    </tr>\n",
       "    <tr>\n",
       "      <th>Griffin High School</th>\n",
       "      <td>83.369193</td>\n",
       "      <td>83.706897</td>\n",
       "      <td>84.288089</td>\n",
       "      <td>84.013699</td>\n",
       "    </tr>\n",
       "  </tbody>\n",
       "</table>\n",
       "</div>"
      ],
      "text/plain": [
       "                            9th       10th       11th       12th\n",
       "school_name                                                     \n",
       "Bailey High School    81.303155  80.907183  80.945643  80.912451\n",
       "Cabrera High School   83.676136  84.253219  83.788382  84.287958\n",
       "Figueroa High School  81.198598  81.408912  80.640339  81.384863\n",
       "Ford High School      80.632653  81.262712  80.403642  80.662338\n",
       "Griffin High School   83.369193  83.706897  84.288089  84.013699"
      ]
     },
     "execution_count": 32,
     "metadata": {},
     "output_type": "execute_result"
    }
   ],
   "source": [
    "# Combine each Series for average reading scores by school into single data frame.\n",
    "reading_scores_by_grade = pd.DataFrame({\n",
    "              \"9th\": ninth_grade_reading_scores,\n",
    "              \"10th\": tenth_grade_reading_scores,\n",
    "              \"11th\": eleventh_grade_reading_scores,\n",
    "              \"12th\": twelfth_grade_reading_scores})\n",
    "\n",
    "reading_scores_by_grade.head()"
   ]
  },
  {
   "cell_type": "code",
   "execution_count": 33,
   "id": "529639f1",
   "metadata": {},
   "outputs": [],
   "source": [
    "# Format each grade column.\n",
    "math_scores_by_grade[\"9th\"] = math_scores_by_grade[\"9th\"].map(\"{:.1f}\".format)\n",
    "\n",
    "math_scores_by_grade[\"10th\"] = math_scores_by_grade[\"10th\"].map(\"{:.1f}\".format)\n",
    "\n",
    "math_scores_by_grade[\"11th\"] = math_scores_by_grade[\"11th\"].map(\"{:.1f}\".format)\n",
    "\n",
    "math_scores_by_grade[\"12th\"] = math_scores_by_grade[\"12th\"].map(\"{:.1f}\".format)\n",
    "\n",
    "reading_scores_by_grade[\"9th\"] = reading_scores_by_grade[\"9th\"].map(\"{:,.1f}\".format)\n",
    "\n",
    "reading_scores_by_grade[\"10th\"] = reading_scores_by_grade[\"10th\"].map(\"{:,.1f}\".format)\n",
    "\n",
    "reading_scores_by_grade[\"11th\"] = reading_scores_by_grade[\"11th\"].map(\"{:,.1f}\".format)\n",
    "\n",
    "reading_scores_by_grade[\"12th\"] = reading_scores_by_grade[\"12th\"].map(\"{:,.1f}\".format)"
   ]
  },
  {
   "cell_type": "code",
   "execution_count": 34,
   "id": "c1d4402e",
   "metadata": {},
   "outputs": [
    {
     "data": {
      "text/html": [
       "<div>\n",
       "<style scoped>\n",
       "    .dataframe tbody tr th:only-of-type {\n",
       "        vertical-align: middle;\n",
       "    }\n",
       "\n",
       "    .dataframe tbody tr th {\n",
       "        vertical-align: top;\n",
       "    }\n",
       "\n",
       "    .dataframe thead th {\n",
       "        text-align: right;\n",
       "    }\n",
       "</style>\n",
       "<table border=\"1\" class=\"dataframe\">\n",
       "  <thead>\n",
       "    <tr style=\"text-align: right;\">\n",
       "      <th></th>\n",
       "      <th>9th</th>\n",
       "      <th>10th</th>\n",
       "      <th>11th</th>\n",
       "      <th>12th</th>\n",
       "    </tr>\n",
       "  </thead>\n",
       "  <tbody>\n",
       "    <tr>\n",
       "      <th>Bailey High School</th>\n",
       "      <td>77.1</td>\n",
       "      <td>77.0</td>\n",
       "      <td>77.5</td>\n",
       "      <td>76.5</td>\n",
       "    </tr>\n",
       "    <tr>\n",
       "      <th>Cabrera High School</th>\n",
       "      <td>83.1</td>\n",
       "      <td>83.2</td>\n",
       "      <td>82.8</td>\n",
       "      <td>83.3</td>\n",
       "    </tr>\n",
       "    <tr>\n",
       "      <th>Figueroa High School</th>\n",
       "      <td>76.4</td>\n",
       "      <td>76.5</td>\n",
       "      <td>76.9</td>\n",
       "      <td>77.2</td>\n",
       "    </tr>\n",
       "    <tr>\n",
       "      <th>Ford High School</th>\n",
       "      <td>77.4</td>\n",
       "      <td>77.7</td>\n",
       "      <td>76.9</td>\n",
       "      <td>76.2</td>\n",
       "    </tr>\n",
       "    <tr>\n",
       "      <th>Griffin High School</th>\n",
       "      <td>82.0</td>\n",
       "      <td>84.2</td>\n",
       "      <td>83.8</td>\n",
       "      <td>83.4</td>\n",
       "    </tr>\n",
       "  </tbody>\n",
       "</table>\n",
       "</div>"
      ],
      "text/plain": [
       "                       9th  10th  11th  12th\n",
       "Bailey High School    77.1  77.0  77.5  76.5\n",
       "Cabrera High School   83.1  83.2  82.8  83.3\n",
       "Figueroa High School  76.4  76.5  76.9  77.2\n",
       "Ford High School      77.4  77.7  76.9  76.2\n",
       "Griffin High School   82.0  84.2  83.8  83.4"
      ]
     },
     "execution_count": 34,
     "metadata": {},
     "output_type": "execute_result"
    }
   ],
   "source": [
    "# Remove the index.\n",
    "math_scores_by_grade = math_scores_by_grade[\n",
    "                 [\"9th\", \"10th\", \"11th\", \"12th\"]]\n",
    "\n",
    "# Display the data frame\n",
    "math_scores_by_grade.index.name = None\n",
    "\n",
    "math_scores_by_grade.head()"
   ]
  },
  {
   "cell_type": "code",
   "execution_count": 35,
   "id": "876f9983",
   "metadata": {},
   "outputs": [
    {
     "data": {
      "text/html": [
       "<div>\n",
       "<style scoped>\n",
       "    .dataframe tbody tr th:only-of-type {\n",
       "        vertical-align: middle;\n",
       "    }\n",
       "\n",
       "    .dataframe tbody tr th {\n",
       "        vertical-align: top;\n",
       "    }\n",
       "\n",
       "    .dataframe thead th {\n",
       "        text-align: right;\n",
       "    }\n",
       "</style>\n",
       "<table border=\"1\" class=\"dataframe\">\n",
       "  <thead>\n",
       "    <tr style=\"text-align: right;\">\n",
       "      <th></th>\n",
       "      <th>9th</th>\n",
       "      <th>10th</th>\n",
       "      <th>11th</th>\n",
       "      <th>12th</th>\n",
       "    </tr>\n",
       "  </thead>\n",
       "  <tbody>\n",
       "    <tr>\n",
       "      <th>Bailey High School</th>\n",
       "      <td>81.3</td>\n",
       "      <td>80.9</td>\n",
       "      <td>80.9</td>\n",
       "      <td>80.9</td>\n",
       "    </tr>\n",
       "    <tr>\n",
       "      <th>Cabrera High School</th>\n",
       "      <td>83.7</td>\n",
       "      <td>84.3</td>\n",
       "      <td>83.8</td>\n",
       "      <td>84.3</td>\n",
       "    </tr>\n",
       "    <tr>\n",
       "      <th>Figueroa High School</th>\n",
       "      <td>81.2</td>\n",
       "      <td>81.4</td>\n",
       "      <td>80.6</td>\n",
       "      <td>81.4</td>\n",
       "    </tr>\n",
       "    <tr>\n",
       "      <th>Ford High School</th>\n",
       "      <td>80.6</td>\n",
       "      <td>81.3</td>\n",
       "      <td>80.4</td>\n",
       "      <td>80.7</td>\n",
       "    </tr>\n",
       "    <tr>\n",
       "      <th>Griffin High School</th>\n",
       "      <td>83.4</td>\n",
       "      <td>83.7</td>\n",
       "      <td>84.3</td>\n",
       "      <td>84.0</td>\n",
       "    </tr>\n",
       "  </tbody>\n",
       "</table>\n",
       "</div>"
      ],
      "text/plain": [
       "                       9th  10th  11th  12th\n",
       "Bailey High School    81.3  80.9  80.9  80.9\n",
       "Cabrera High School   83.7  84.3  83.8  84.3\n",
       "Figueroa High School  81.2  81.4  80.6  81.4\n",
       "Ford High School      80.6  81.3  80.4  80.7\n",
       "Griffin High School   83.4  83.7  84.3  84.0"
      ]
     },
     "execution_count": 35,
     "metadata": {},
     "output_type": "execute_result"
    }
   ],
   "source": [
    "## Remove the index.\n",
    "reading_scores_by_grade = reading_scores_by_grade[\n",
    "                 [\"9th\", \"10th\", \"11th\", \"12th\"]]\n",
    "\n",
    "# Display the data frame\n",
    "reading_scores_by_grade.index.name = None\n",
    "\n",
    "reading_scores_by_grade.head()"
   ]
  },
  {
   "cell_type": "markdown",
   "id": "00e2ed93",
   "metadata": {},
   "source": [
    " ## Scores by School Spending"
   ]
  },
  {
   "cell_type": "code",
   "execution_count": 36,
   "id": "9cc5d0a3",
   "metadata": {},
   "outputs": [],
   "source": [
    "# Establish the spending bins and group names.\n",
    "spending_bins = [0, 585, 630, 645, 675]\n",
    "group_names = [\"<$584\", \"$585-629\", \"$630-644\", \"$645-675\"]\n",
    "\n",
    "# Categorize spending based on the bins.\n",
    "per_school_summary_df[\"Spending Ranges (Per Student)\"] = pd.cut(per_school_capita, spending_bins, labels=group_names)\n",
    "\n",
    "# per_school_summary_df"
   ]
  },
  {
   "cell_type": "code",
   "execution_count": 37,
   "id": "7e8c7114",
   "metadata": {},
   "outputs": [],
   "source": [
    "# Calculate averages for the desired columns.\n",
    "spending_math_scores = per_school_summary_df.groupby([\"Spending Ranges (Per Student)\"]).mean()[\"Average Math Score\"]\n",
    "spending_reading_scores = per_school_summary_df.groupby([\"Spending Ranges (Per Student)\"]).mean()[\"Average Reading Score\"]\n",
    "spending_passing_math = per_school_summary_df.groupby([\"Spending Ranges (Per Student)\"]).mean()[\"% Passing Math\"]\n",
    "spending_passing_reading = per_school_summary_df.groupby([\"Spending Ranges (Per Student)\"]).mean()[\"% Passing Reading\"]\n",
    "overall_passing_spending = per_school_summary_df.groupby([\"Spending Ranges (Per Student)\"]).mean()[\"% Overall Passing\"]\n",
    "# overall_passing_spending\n"
   ]
  },
  {
   "cell_type": "code",
   "execution_count": 38,
   "id": "de7034d4",
   "metadata": {},
   "outputs": [],
   "source": [
    "# Create the DataFrame\n",
    "spending_summary_df = pd.DataFrame({\n",
    "          \"Average Math Score\" : spending_math_scores,\n",
    "          \"Average Reading Score\": spending_reading_scores,\n",
    "          \"% Passing Math\": spending_passing_math,\n",
    "          \"% Passing Reading\": spending_passing_reading,\n",
    "          \"% Overall Passing\": overall_passing_spending})\n",
    "# spending_summary_df"
   ]
  },
  {
   "cell_type": "code",
   "execution_count": 39,
   "id": "38d962fe",
   "metadata": {},
   "outputs": [
    {
     "data": {
      "text/html": [
       "<div>\n",
       "<style scoped>\n",
       "    .dataframe tbody tr th:only-of-type {\n",
       "        vertical-align: middle;\n",
       "    }\n",
       "\n",
       "    .dataframe tbody tr th {\n",
       "        vertical-align: top;\n",
       "    }\n",
       "\n",
       "    .dataframe thead th {\n",
       "        text-align: right;\n",
       "    }\n",
       "</style>\n",
       "<table border=\"1\" class=\"dataframe\">\n",
       "  <thead>\n",
       "    <tr style=\"text-align: right;\">\n",
       "      <th></th>\n",
       "      <th>Average Math Score</th>\n",
       "      <th>Average Reading Score</th>\n",
       "      <th>% Passing Math</th>\n",
       "      <th>% Passing Reading</th>\n",
       "      <th>% Overall Passing</th>\n",
       "    </tr>\n",
       "    <tr>\n",
       "      <th>Spending Ranges (Per Student)</th>\n",
       "      <th></th>\n",
       "      <th></th>\n",
       "      <th></th>\n",
       "      <th></th>\n",
       "      <th></th>\n",
       "    </tr>\n",
       "  </thead>\n",
       "  <tbody>\n",
       "    <tr>\n",
       "      <th>&lt;$584</th>\n",
       "      <td>83.5</td>\n",
       "      <td>83.9</td>\n",
       "      <td>93.46</td>\n",
       "      <td>96.61</td>\n",
       "      <td>90.37</td>\n",
       "    </tr>\n",
       "    <tr>\n",
       "      <th>$585-629</th>\n",
       "      <td>81.9</td>\n",
       "      <td>83.2</td>\n",
       "      <td>87.13</td>\n",
       "      <td>92.72</td>\n",
       "      <td>81.42</td>\n",
       "    </tr>\n",
       "    <tr>\n",
       "      <th>$630-644</th>\n",
       "      <td>78.5</td>\n",
       "      <td>81.6</td>\n",
       "      <td>73.46</td>\n",
       "      <td>84.32</td>\n",
       "      <td>62.78</td>\n",
       "    </tr>\n",
       "    <tr>\n",
       "      <th>$645-675</th>\n",
       "      <td>77.0</td>\n",
       "      <td>81.0</td>\n",
       "      <td>66.16</td>\n",
       "      <td>81.13</td>\n",
       "      <td>53.53</td>\n",
       "    </tr>\n",
       "  </tbody>\n",
       "</table>\n",
       "</div>"
      ],
      "text/plain": [
       "                              Average Math Score Average Reading Score  \\\n",
       "Spending Ranges (Per Student)                                            \n",
       "<$584                                       83.5                  83.9   \n",
       "$585-629                                    81.9                  83.2   \n",
       "$630-644                                    78.5                  81.6   \n",
       "$645-675                                    77.0                  81.0   \n",
       "\n",
       "                              % Passing Math % Passing Reading  \\\n",
       "Spending Ranges (Per Student)                                    \n",
       "<$584                                  93.46             96.61   \n",
       "$585-629                               87.13             92.72   \n",
       "$630-644                               73.46             84.32   \n",
       "$645-675                               66.16             81.13   \n",
       "\n",
       "                              % Overall Passing  \n",
       "Spending Ranges (Per Student)                    \n",
       "<$584                                     90.37  \n",
       "$585-629                                  81.42  \n",
       "$630-644                                  62.78  \n",
       "$645-675                                  53.53  "
      ]
     },
     "execution_count": 39,
     "metadata": {},
     "output_type": "execute_result"
    }
   ],
   "source": [
    "# Format the DataFrame \n",
    "spending_summary_df[\"Average Math Score\"] = spending_summary_df[\"Average Math Score\"].map(\"{:.1f}\".format)\n",
    "spending_summary_df[\"Average Reading Score\"] = spending_summary_df[\"Average Reading Score\"].map(\"{:.1f}\".format)\n",
    "spending_summary_df[\"% Passing Math\"] = spending_summary_df[\"% Passing Math\"].map(\"{:.2f}\".format)\n",
    "spending_summary_df[\"% Passing Reading\"] = spending_summary_df[\"% Passing Reading\"].map(\"{:.2f}\".format)\n",
    "spending_summary_df[\"% Overall Passing\"] = spending_summary_df[\"% Overall Passing\"].map(\"{:.2f}\".format)\n",
    "spending_summary_df"
   ]
  },
  {
   "cell_type": "markdown",
   "id": "b3197de3",
   "metadata": {},
   "source": [
    "## Scores by School Size"
   ]
  },
  {
   "cell_type": "code",
   "execution_count": 40,
   "id": "5c44f25d",
   "metadata": {},
   "outputs": [],
   "source": [
    "# Establish the bins.\n",
    "size_bins = [0, 1000, 2000, 5000]\n",
    "group_names = [\"Small (<1000)\", \"Medium (1000-2000)\", \"Large (2000-5000)\"]\n",
    "\n",
    "# Categorize spending based on the bins.\n",
    "per_school_summary_df[\"School Size\"] = pd.cut(per_school_summary_df[\"Total Students\"], size_bins, labels=group_names)\n",
    "# per_school_summary_df.tail(1)"
   ]
  },
  {
   "cell_type": "code",
   "execution_count": 41,
   "id": "8436412c",
   "metadata": {},
   "outputs": [],
   "source": [
    "# Calculate averages for the desired columns.\n",
    "size_math_scores = per_school_summary_df.groupby([\"School Size\"]).mean()[\"Average Math Score\"]\n",
    "size_reading_scores = per_school_summary_df.groupby([\"School Size\"]).mean()[\"Average Reading Score\"]\n",
    "size_passing_math = per_school_summary_df.groupby([\"School Size\"]).mean()[\"% Passing Math\"]\n",
    "size_passing_reading = per_school_summary_df.groupby([\"School Size\"]).mean()[\"% Passing Reading\"]\n",
    "size_overall_passing = per_school_summary_df.groupby([\"School Size\"]).mean()[\"% Overall Passing\"]"
   ]
  },
  {
   "cell_type": "code",
   "execution_count": 42,
   "id": "5441e874",
   "metadata": {},
   "outputs": [],
   "source": [
    "# Assemble into DataFrame. \n",
    "size_summary_df = pd.DataFrame({\n",
    "          \"Average Math Score\" : size_math_scores,\n",
    "          \"Average Reading Score\": size_reading_scores,\n",
    "          \"% Passing Math\": size_passing_math,\n",
    "          \"% Passing Reading\": size_passing_reading,\n",
    "          \"% Overall Passing\": size_overall_passing})\n",
    "# size_summary_df"
   ]
  },
  {
   "cell_type": "code",
   "execution_count": 43,
   "id": "bb97eb07",
   "metadata": {},
   "outputs": [
    {
     "data": {
      "text/html": [
       "<div>\n",
       "<style scoped>\n",
       "    .dataframe tbody tr th:only-of-type {\n",
       "        vertical-align: middle;\n",
       "    }\n",
       "\n",
       "    .dataframe tbody tr th {\n",
       "        vertical-align: top;\n",
       "    }\n",
       "\n",
       "    .dataframe thead th {\n",
       "        text-align: right;\n",
       "    }\n",
       "</style>\n",
       "<table border=\"1\" class=\"dataframe\">\n",
       "  <thead>\n",
       "    <tr style=\"text-align: right;\">\n",
       "      <th></th>\n",
       "      <th>Average Math Score</th>\n",
       "      <th>Average Reading Score</th>\n",
       "      <th>% Passing Math</th>\n",
       "      <th>% Passing Reading</th>\n",
       "      <th>% Overall Passing</th>\n",
       "    </tr>\n",
       "    <tr>\n",
       "      <th>School Size</th>\n",
       "      <th></th>\n",
       "      <th></th>\n",
       "      <th></th>\n",
       "      <th></th>\n",
       "      <th></th>\n",
       "    </tr>\n",
       "  </thead>\n",
       "  <tbody>\n",
       "    <tr>\n",
       "      <th>Small (&lt;1000)</th>\n",
       "      <td>83.8</td>\n",
       "      <td>83.9</td>\n",
       "      <td>93.55</td>\n",
       "      <td>96.10</td>\n",
       "      <td>89.88</td>\n",
       "    </tr>\n",
       "    <tr>\n",
       "      <th>Medium (1000-2000)</th>\n",
       "      <td>83.4</td>\n",
       "      <td>83.9</td>\n",
       "      <td>93.58</td>\n",
       "      <td>96.73</td>\n",
       "      <td>90.56</td>\n",
       "    </tr>\n",
       "    <tr>\n",
       "      <th>Large (2000-5000)</th>\n",
       "      <td>77.7</td>\n",
       "      <td>81.3</td>\n",
       "      <td>69.96</td>\n",
       "      <td>82.77</td>\n",
       "      <td>58.29</td>\n",
       "    </tr>\n",
       "  </tbody>\n",
       "</table>\n",
       "</div>"
      ],
      "text/plain": [
       "                   Average Math Score Average Reading Score % Passing Math  \\\n",
       "School Size                                                                  \n",
       "Small (<1000)                    83.8                  83.9          93.55   \n",
       "Medium (1000-2000)               83.4                  83.9          93.58   \n",
       "Large (2000-5000)                77.7                  81.3          69.96   \n",
       "\n",
       "                   % Passing Reading % Overall Passing  \n",
       "School Size                                             \n",
       "Small (<1000)                  96.10             89.88  \n",
       "Medium (1000-2000)             96.73             90.56  \n",
       "Large (2000-5000)              82.77             58.29  "
      ]
     },
     "execution_count": 43,
     "metadata": {},
     "output_type": "execute_result"
    }
   ],
   "source": [
    "# Format the DataFrame  \n",
    "size_summary_df[\"Average Math Score\"] = size_summary_df[\"Average Math Score\"].map(\"{:.1f}\".format)\n",
    "size_summary_df[\"Average Reading Score\"] = size_summary_df[\"Average Reading Score\"].map(\"{:.1f}\".format)\n",
    "size_summary_df[\"% Passing Math\"] = size_summary_df[\"% Passing Math\"].map(\"{:.2f}\".format)\n",
    "size_summary_df[\"% Passing Reading\"] = size_summary_df[\"% Passing Reading\"].map(\"{:.2f}\".format)\n",
    "size_summary_df[\"% Overall Passing\"] = size_summary_df[\"% Overall Passing\"].map(\"{:.2f}\".format)\n",
    "size_summary_df"
   ]
  },
  {
   "cell_type": "markdown",
   "id": "215fd556",
   "metadata": {},
   "source": [
    "## Scores by School Type"
   ]
  },
  {
   "cell_type": "code",
   "execution_count": 44,
   "id": "263ed64a",
   "metadata": {},
   "outputs": [],
   "source": [
    "# Calculate averages for the desired columns. \n",
    "type_math_scores = per_school_summary_df.groupby([\"School Type\"]).mean()[\"Average Math Score\"]\n",
    "type_reading_scores = per_school_summary_df.groupby([\"School Type\"]).mean()[\"Average Reading Score\"]\n",
    "type_passing_math = per_school_summary_df.groupby([\"School Type\"]).mean()[\"% Passing Math\"]\n",
    "type_passing_reading = per_school_summary_df.groupby([\"School Type\"]).mean()[\"% Passing Reading\"]\n",
    "type_overall_passing = per_school_summary_df.groupby([\"School Type\"]).mean()[\"% Overall Passing\"]"
   ]
  },
  {
   "cell_type": "code",
   "execution_count": 45,
   "id": "de51f6df",
   "metadata": {},
   "outputs": [],
   "source": [
    "# Assemble into DataFrame. \n",
    "type_summary_df = pd.DataFrame({\n",
    "          \"Average Math Score\" : type_math_scores,\n",
    "          \"Average Reading Score\": type_reading_scores,\n",
    "          \"% Passing Math\": type_passing_math,\n",
    "          \"% Passing Reading\": type_passing_reading,\n",
    "          \"% Overall Passing\": type_overall_passing})\n",
    "# type_summary_df"
   ]
  },
  {
   "cell_type": "code",
   "execution_count": 46,
   "id": "095adfdd",
   "metadata": {},
   "outputs": [
    {
     "data": {
      "text/html": [
       "<div>\n",
       "<style scoped>\n",
       "    .dataframe tbody tr th:only-of-type {\n",
       "        vertical-align: middle;\n",
       "    }\n",
       "\n",
       "    .dataframe tbody tr th {\n",
       "        vertical-align: top;\n",
       "    }\n",
       "\n",
       "    .dataframe thead th {\n",
       "        text-align: right;\n",
       "    }\n",
       "</style>\n",
       "<table border=\"1\" class=\"dataframe\">\n",
       "  <thead>\n",
       "    <tr style=\"text-align: right;\">\n",
       "      <th></th>\n",
       "      <th>Average Math Score</th>\n",
       "      <th>Average Reading Score</th>\n",
       "      <th>% Passing Math</th>\n",
       "      <th>% Passing Reading</th>\n",
       "      <th>% Overall Passing</th>\n",
       "    </tr>\n",
       "    <tr>\n",
       "      <th>School Type</th>\n",
       "      <th></th>\n",
       "      <th></th>\n",
       "      <th></th>\n",
       "      <th></th>\n",
       "      <th></th>\n",
       "    </tr>\n",
       "  </thead>\n",
       "  <tbody>\n",
       "    <tr>\n",
       "      <th>Charter</th>\n",
       "      <td>83.5</td>\n",
       "      <td>83.9</td>\n",
       "      <td>93.61</td>\n",
       "      <td>96.55</td>\n",
       "      <td>90.39</td>\n",
       "    </tr>\n",
       "    <tr>\n",
       "      <th>District</th>\n",
       "      <td>77.0</td>\n",
       "      <td>81.0</td>\n",
       "      <td>66.55</td>\n",
       "      <td>80.80</td>\n",
       "      <td>53.67</td>\n",
       "    </tr>\n",
       "  </tbody>\n",
       "</table>\n",
       "</div>"
      ],
      "text/plain": [
       "            Average Math Score Average Reading Score % Passing Math  \\\n",
       "School Type                                                           \n",
       "Charter                   83.5                  83.9          93.61   \n",
       "District                  77.0                  81.0          66.55   \n",
       "\n",
       "            % Passing Reading % Overall Passing  \n",
       "School Type                                      \n",
       "Charter                 96.55             90.39  \n",
       "District                80.80             53.67  "
      ]
     },
     "execution_count": 46,
     "metadata": {},
     "output_type": "execute_result"
    }
   ],
   "source": [
    "# # Format the DataFrame \n",
    "type_summary_df[\"Average Math Score\"] = type_summary_df[\"Average Math Score\"].map(\"{:.1f}\".format)\n",
    "type_summary_df[\"Average Reading Score\"] = type_summary_df[\"Average Reading Score\"].map(\"{:.1f}\".format)\n",
    "type_summary_df[\"% Passing Math\"] = type_summary_df[\"% Passing Math\"].map(\"{:.2f}\".format)\n",
    "type_summary_df[\"% Passing Reading\"] = type_summary_df[\"% Passing Reading\"].map(\"{:.2f}\".format)\n",
    "type_summary_df[\"% Overall Passing\"] = type_summary_df[\"% Overall Passing\"].map(\"{:.2f}\".format)\n",
    "type_summary_df"
   ]
  },
  {
   "cell_type": "code",
   "execution_count": null,
   "id": "7c040330",
   "metadata": {},
   "outputs": [],
   "source": []
  },
  {
   "cell_type": "code",
   "execution_count": null,
   "id": "7f989188",
   "metadata": {},
   "outputs": [],
   "source": []
  },
  {
   "cell_type": "code",
   "execution_count": null,
   "id": "a9834539",
   "metadata": {},
   "outputs": [],
   "source": []
  },
  {
   "cell_type": "code",
   "execution_count": null,
   "id": "542ce527",
   "metadata": {},
   "outputs": [],
   "source": []
  },
  {
   "cell_type": "code",
   "execution_count": null,
   "id": "d8bb82fc",
   "metadata": {},
   "outputs": [],
   "source": []
  },
  {
   "cell_type": "code",
   "execution_count": null,
   "id": "a8606875",
   "metadata": {},
   "outputs": [],
   "source": []
  },
  {
   "cell_type": "markdown",
   "id": "9d447cca",
   "metadata": {},
   "source": [
    "### Code generated in Module"
   ]
  },
  {
   "cell_type": "code",
   "execution_count": null,
   "id": "46054719",
   "metadata": {},
   "outputs": [],
   "source": [
    "# Add the Pandas dependency.\n",
    "import pandas as pd"
   ]
  },
  {
   "cell_type": "code",
   "execution_count": null,
   "id": "b3b3de73",
   "metadata": {},
   "outputs": [],
   "source": [
    "# Files to load\n",
    "school_data_to_load = \"Resources/schools_complete.csv\"\n",
    "student_data_to_load = \"Resources/students_complete.csv\""
   ]
  },
  {
   "cell_type": "code",
   "execution_count": null,
   "id": "59280354",
   "metadata": {},
   "outputs": [],
   "source": [
    "# Read the school data file and store it in a Pandas DataFrame.\n",
    "school_data_df = pd.read_csv(school_data_to_load)\n",
    "school_data_df"
   ]
  },
  {
   "cell_type": "code",
   "execution_count": null,
   "id": "b5ac9b45",
   "metadata": {},
   "outputs": [],
   "source": [
    "# Read the student data file and store it in a Pandas DataFrame.\n",
    "student_data_df = pd.read_csv(student_data_to_load)\n",
    "student_data_df.head()"
   ]
  },
  {
   "cell_type": "code",
   "execution_count": null,
   "id": "d5fb2e26",
   "metadata": {},
   "outputs": [],
   "source": [
    "# Determine if there are any missing values in the school data.\n",
    "school_data_df.count()"
   ]
  },
  {
   "cell_type": "code",
   "execution_count": null,
   "id": "9747743b",
   "metadata": {},
   "outputs": [],
   "source": [
    "# Determine if there are any missing values in the student data.\n",
    "student_data_df.count()"
   ]
  },
  {
   "cell_type": "code",
   "execution_count": null,
   "id": "a6fe3424",
   "metadata": {},
   "outputs": [],
   "source": [
    "# Determine if there are any missing values in the school data.\n",
    "school_data_df.isnull()"
   ]
  },
  {
   "cell_type": "code",
   "execution_count": null,
   "id": "0925aa86",
   "metadata": {},
   "outputs": [],
   "source": [
    "# Determine if there are any missing values in the student data.\n",
    "student_data_df.isnull()"
   ]
  },
  {
   "cell_type": "code",
   "execution_count": null,
   "id": "a3ba96a6",
   "metadata": {},
   "outputs": [],
   "source": [
    "# Determine if there are any missing values in the student data.\n",
    "student_data_df.isnull().sum()"
   ]
  },
  {
   "cell_type": "code",
   "execution_count": null,
   "id": "7912a5b3",
   "metadata": {},
   "outputs": [],
   "source": [
    "# Determine if there are not any missing values in the school data.\n",
    "school_data_df.notnull()"
   ]
  },
  {
   "cell_type": "code",
   "execution_count": null,
   "id": "a31c2b9e",
   "metadata": {},
   "outputs": [],
   "source": [
    "# Determine if there are not any missing values in the student data.\n",
    "student_data_df.notnull().sum()"
   ]
  },
  {
   "cell_type": "code",
   "execution_count": null,
   "id": "c89f32e3",
   "metadata": {},
   "outputs": [],
   "source": [
    "# Determine data types for the school DataFrame.\n",
    "school_data_df.dtypes"
   ]
  },
  {
   "cell_type": "code",
   "execution_count": null,
   "id": "e23c0a1b",
   "metadata": {},
   "outputs": [],
   "source": [
    "# Determine data types for the student DataFrame.\n",
    "student_data_df.dtypes"
   ]
  },
  {
   "cell_type": "code",
   "execution_count": null,
   "id": "e82e6e77",
   "metadata": {},
   "outputs": [],
   "source": [
    "# Add each prefix and suffix to remove to a list.\n",
    "prefixes_suffixes = [\"Dr. \", \"Mr. \",\"Ms. \", \"Mrs. \", \"Miss \", \" MD\", \" DDS\", \" DVM\", \" PhD\"]\n",
    "\n",
    "# Iterate through the words in the \"prefixes_suffixes\" list and replace them with an empty space, \"\".\n",
    "for word in prefixes_suffixes:\n",
    "    student_data_df[\"student_name\"] = student_data_df[\"student_name\"].str.replace(word,\"\")"
   ]
  },
  {
   "cell_type": "code",
   "execution_count": null,
   "id": "f63d6bfa",
   "metadata": {},
   "outputs": [],
   "source": [
    "student_data_df"
   ]
  },
  {
   "cell_type": "code",
   "execution_count": null,
   "id": "ce883758",
   "metadata": {},
   "outputs": [],
   "source": [
    "# Combine the data into a single dataset.\n",
    "school_data_complete_df = pd.merge(student_data_df, school_data_df, on=[\"school_name\", \"school_name\"])\n",
    "school_data_complete_df.head()"
   ]
  },
  {
   "cell_type": "code",
   "execution_count": null,
   "id": "a769ef98",
   "metadata": {},
   "outputs": [],
   "source": [
    "# Get the total number of students.\n",
    "student_count = school_data_complete_df[\"Student ID\"].count()\n",
    "student_count"
   ]
  },
  {
   "cell_type": "code",
   "execution_count": null,
   "id": "dde2dcbd",
   "metadata": {},
   "outputs": [],
   "source": [
    "# Calculate the total number of schools.\n",
    "school_count = school_data_df[\"school_name\"].count()\n",
    "school_count"
   ]
  },
  {
   "cell_type": "code",
   "execution_count": null,
   "id": "3efbc99e",
   "metadata": {},
   "outputs": [],
   "source": [
    "# Calculate the total number of schools\n",
    "school_count_2 = school_data_complete_df[\"school_name\"].unique()\n",
    "school_count_2\n"
   ]
  },
  {
   "cell_type": "code",
   "execution_count": null,
   "id": "ca61a9b8",
   "metadata": {},
   "outputs": [],
   "source": [
    "# Calculate the total budget.\n",
    "total_budget = school_data_df[\"budget\"].sum()\n",
    "total_budget"
   ]
  },
  {
   "cell_type": "code",
   "execution_count": null,
   "id": "97456501",
   "metadata": {},
   "outputs": [],
   "source": [
    "# Calculate the average reading score.\n",
    "average_reading_score = school_data_complete_df[\"reading_score\"].mean()\n",
    "average_reading_score"
   ]
  },
  {
   "cell_type": "code",
   "execution_count": null,
   "id": "bb067879",
   "metadata": {},
   "outputs": [],
   "source": [
    "# Calculate the average math score.\n",
    "average_math_score = school_data_complete_df[\"math_score\"].mean()\n",
    "average_math_score"
   ]
  },
  {
   "cell_type": "code",
   "execution_count": null,
   "id": "8b8b7a64",
   "metadata": {},
   "outputs": [],
   "source": [
    "passing_math = school_data_complete_df[\"math_score\"] >= 70\n",
    "passing_reading = school_data_complete_df[\"reading_score\"] >= 70"
   ]
  },
  {
   "cell_type": "code",
   "execution_count": null,
   "id": "b88a18d7",
   "metadata": {},
   "outputs": [],
   "source": [
    "passing_math"
   ]
  },
  {
   "cell_type": "code",
   "execution_count": null,
   "id": "7d96673c",
   "metadata": {},
   "outputs": [],
   "source": [
    "passing_reading"
   ]
  },
  {
   "cell_type": "code",
   "execution_count": null,
   "id": "e92b39da",
   "metadata": {},
   "outputs": [],
   "source": [
    "# Get all the students who are passing math in a new DataFrame.\n",
    "passing_math = school_data_complete_df[school_data_complete_df[\"math_score\"] >= 70]\n",
    "passing_math.head()"
   ]
  },
  {
   "cell_type": "code",
   "execution_count": null,
   "id": "d8b8ec1d",
   "metadata": {},
   "outputs": [],
   "source": [
    "# Get all the students that are passing reading in a new DataFrame.\n",
    "passing_reading = school_data_complete_df[school_data_complete_df[\"reading_score\"] >= 70]\n",
    "passing_reading.head()"
   ]
  },
  {
   "cell_type": "code",
   "execution_count": null,
   "id": "13a641c1",
   "metadata": {},
   "outputs": [],
   "source": [
    "# Calculate the number of students passing math.\n",
    "passing_math_count = passing_math[\"student_name\"].count()\n",
    "\n",
    "# Calculate the number of students passing reading.\n",
    "passing_reading_count = passing_reading[\"student_name\"].count()\n",
    "\n",
    "print(passing_math_count)\n",
    "print(passing_reading_count)"
   ]
  },
  {
   "cell_type": "code",
   "execution_count": null,
   "id": "c207d5fc",
   "metadata": {},
   "outputs": [],
   "source": [
    "# Calculate the percent that passed math.\n",
    "passing_math_percentage = passing_math_count / float(student_count) * 100\n",
    "\n",
    "# Calculate the percent that passed reading.\n",
    "passing_reading_percentage = passing_reading_count / float(student_count) * 100\n",
    "\n",
    "print(passing_math_percentage)\n",
    "print(passing_reading_percentage)"
   ]
  },
  {
   "cell_type": "code",
   "execution_count": null,
   "id": "fc227450",
   "metadata": {},
   "outputs": [],
   "source": [
    "# Calculate the students who passed both math and reading.\n",
    "passing_math_reading = school_data_complete_df[(school_data_complete_df[\"math_score\"] >= 70) & (school_data_complete_df[\"reading_score\"] >= 70)]\n",
    "\n",
    "passing_math_reading.head()"
   ]
  },
  {
   "cell_type": "code",
   "execution_count": null,
   "id": "a36863f8",
   "metadata": {},
   "outputs": [],
   "source": [
    "# Calculate the number of students who passed both math and reading.\n",
    "overall_passing_math_reading_count = passing_math_reading[\"student_name\"].count()\n",
    "overall_passing_math_reading_count\n",
    "\n",
    "# Calculate the overall passing percentage.\n",
    "overall_passing_percentage = overall_passing_math_reading_count / student_count * 100\n",
    "overall_passing_percentage"
   ]
  },
  {
   "cell_type": "code",
   "execution_count": null,
   "id": "74b41326",
   "metadata": {},
   "outputs": [],
   "source": [
    "# Adding a list of values with keys to create a new DataFrame.\n",
    "district_summary_df = pd.DataFrame(\n",
    "          [{\"Total Schools\": school_count,\n",
    "          \"Total Students\": student_count,\n",
    "          \"Total Budget\": total_budget,\n",
    "          \"Average Math Score\": average_math_score,\n",
    "          \"Average Reading Score\": average_reading_score,\n",
    "          \"% Passing Math\": passing_math_percentage,\n",
    "         \"% Passing Reading\": passing_reading_percentage,\n",
    "        \"% Overall Passing\": overall_passing_percentage}])\n",
    "district_summary_df"
   ]
  },
  {
   "cell_type": "code",
   "execution_count": null,
   "id": "78e4ce6f",
   "metadata": {},
   "outputs": [],
   "source": [
    "# Format the \"Total Students\" to have the comma for a thousands separator.\n",
    "district_summary_df[\"Total Students\"] = district_summary_df[\"Total Students\"].map(\"{:,}\".format)\n",
    "\n",
    "district_summary_df[\"Total Students\"]"
   ]
  },
  {
   "cell_type": "code",
   "execution_count": null,
   "id": "d1cc2f3a",
   "metadata": {},
   "outputs": [],
   "source": [
    "# Format \"Total Budget\" to have the comma for a thousands separator, a decimal separator, and a \"$\".\n",
    "\n",
    "district_summary_df[\"Total Budget\"] = district_summary_df[\"Total Budget\"].map(\"${:,.2f}\".format)\n",
    "\n",
    "district_summary_df[\"Total Budget\"]"
   ]
  },
  {
   "cell_type": "code",
   "execution_count": null,
   "id": "66382782",
   "metadata": {},
   "outputs": [],
   "source": [
    "# Format the columns.\n",
    "district_summary_df[\"Average Math Score\"] = district_summary_df[\"Average Math Score\"].map(\"{:.1f}\".format)\n",
    "\n",
    "district_summary_df[\"Average Reading Score\"] = district_summary_df[\"Average Reading Score\"].map(\"{:.1f}\".format)\n",
    "\n",
    "district_summary_df[\"% Passing Math\"] = district_summary_df[\"% Passing Math\"].map(\"{:.0f}\".format)\n",
    "\n",
    "district_summary_df[\"% Passing Reading\"] = district_summary_df[\"% Passing Reading\"].map(\"{:.0f}\".format)\n",
    "\n",
    "district_summary_df[\"% Overall Passing\"] = district_summary_df[\"% Overall Passing\"].map(\"{:.0f}\".format)\n",
    "\n",
    "district_summary_df"
   ]
  },
  {
   "cell_type": "code",
   "execution_count": null,
   "id": "a37a42c2",
   "metadata": {},
   "outputs": [],
   "source": [
    "# Reorder the columns in the order you want them to appear.\n",
    "new_column_order = [\"Total Schools\", \"Total Students\", \"Total Budget\",\"Average Math Score\", \"Average Reading Score\", \"% Passing Math\", \"% Passing Reading\", \"% Overall Passing\"]\n",
    "\n",
    "# Assign district summary df the new column order.\n",
    "district_summary_df = district_summary_df[new_column_order]\n",
    "district_summary_df\n"
   ]
  },
  {
   "cell_type": "code",
   "execution_count": null,
   "id": "d0e8d67f",
   "metadata": {},
   "outputs": [],
   "source": [
    "# Determine the school type.\n",
    "per_school_types = school_data_df.set_index([\"school_name\"])[\"type\"]\n",
    "per_school_types"
   ]
  },
  {
   "cell_type": "code",
   "execution_count": null,
   "id": "0415a8e0",
   "metadata": {},
   "outputs": [],
   "source": [
    "# Add the per_school_types into a DataFrame for testing.\n",
    "df = pd.DataFrame(per_school_types)\n",
    "df"
   ]
  },
  {
   "cell_type": "code",
   "execution_count": null,
   "id": "d14508e5",
   "metadata": {},
   "outputs": [],
   "source": [
    "# Calculate the total student count.\n",
    "per_school_counts = school_data_df[\"size\"]\n",
    "per_school_counts"
   ]
  },
  {
   "cell_type": "code",
   "execution_count": null,
   "id": "e9b2219d",
   "metadata": {},
   "outputs": [],
   "source": [
    "# Calculate the total student count.\n",
    "per_school_counts = school_data_df.set_index([\"school_name\"])[\"size\"]\n",
    "per_school_counts"
   ]
  },
  {
   "cell_type": "code",
   "execution_count": null,
   "id": "987eca2d",
   "metadata": {},
   "outputs": [],
   "source": [
    "# Calculate the total student count.\n",
    "per_school_counts = school_data_complete_df[\"school_name\"].value_counts()\n",
    "per_school_counts"
   ]
  },
  {
   "cell_type": "code",
   "execution_count": null,
   "id": "2d3f9fcd",
   "metadata": {},
   "outputs": [],
   "source": [
    "# Calculate the total school budget.\n",
    "per_school_budget = school_data_df.set_index([\"school_name\"])[\"budget\"]\n",
    "per_school_budget"
   ]
  },
  {
   "cell_type": "code",
   "execution_count": null,
   "id": "71489b73",
   "metadata": {},
   "outputs": [],
   "source": [
    "# Calculate the per capita spending.\n",
    "per_school_capita = per_school_budget / per_school_counts\n",
    "per_school_capita"
   ]
  },
  {
   "cell_type": "code",
   "execution_count": null,
   "id": "932f629f",
   "metadata": {},
   "outputs": [],
   "source": [
    "# Calculate the math scores.\n",
    "student_school_math = student_data_df.set_index([\"school_name\"])[\"math_score\"]\n",
    "student_school_math"
   ]
  },
  {
   "cell_type": "code",
   "execution_count": null,
   "id": "1c463a9f",
   "metadata": {},
   "outputs": [],
   "source": [
    "# Calculate the average math scores.\n",
    "per_school_averages = school_data_complete_df.groupby([\"school_name\"]).mean()\n",
    "per_school_averages"
   ]
  },
  {
   "cell_type": "code",
   "execution_count": null,
   "id": "e464a868",
   "metadata": {},
   "outputs": [],
   "source": [
    "# Calculate the average test scores.\n",
    "per_school_math = school_data_complete_df.groupby([\"school_name\"]).mean()[\"math_score\"]\n",
    "\n",
    "per_school_reading = school_data_complete_df.groupby([\"school_name\"]).mean()[\"reading_score\"]"
   ]
  },
  {
   "cell_type": "code",
   "execution_count": null,
   "id": "595b8a31",
   "metadata": {},
   "outputs": [],
   "source": [
    "per_school_math"
   ]
  },
  {
   "cell_type": "code",
   "execution_count": null,
   "id": "4129d493",
   "metadata": {},
   "outputs": [],
   "source": [
    "per_school_reading"
   ]
  },
  {
   "cell_type": "code",
   "execution_count": null,
   "id": "d6dde4d4",
   "metadata": {},
   "outputs": [],
   "source": [
    "# Calculate the passing scores by creating a filtered DataFrame.\n",
    "per_school_passing_math = school_data_complete_df[(school_data_complete_df[\"math_score\"] >= 70)]\n",
    "\n",
    "per_school_passing_reading = school_data_complete_df[(school_data_complete_df[\"reading_score\"] >= 70)]"
   ]
  },
  {
   "cell_type": "code",
   "execution_count": null,
   "id": "cac12672",
   "metadata": {},
   "outputs": [],
   "source": [
    "per_school_passing_math"
   ]
  },
  {
   "cell_type": "code",
   "execution_count": null,
   "id": "4d6d96ff",
   "metadata": {},
   "outputs": [],
   "source": [
    "per_school_passing_reading"
   ]
  },
  {
   "cell_type": "code",
   "execution_count": null,
   "id": "3bfc5e9f",
   "metadata": {},
   "outputs": [],
   "source": [
    "# Calculate the number of students passing math and passing reading by school.\n",
    "per_school_passing_math = per_school_passing_math.groupby([\"school_name\"]).count()[\"student_name\"]\n",
    "\n",
    "per_school_passing_reading = per_school_passing_reading.groupby([\"school_name\"]).count()[\"student_name\"]"
   ]
  },
  {
   "cell_type": "code",
   "execution_count": null,
   "id": "6933cb5f",
   "metadata": {},
   "outputs": [],
   "source": [
    "per_school_passing_math"
   ]
  },
  {
   "cell_type": "code",
   "execution_count": null,
   "id": "4fdb8c05",
   "metadata": {},
   "outputs": [],
   "source": [
    "per_school_passing_reading"
   ]
  },
  {
   "cell_type": "code",
   "execution_count": null,
   "id": "1e79b69b",
   "metadata": {},
   "outputs": [],
   "source": [
    "# Calculate the percentage of passing math and reading scores per school.\n",
    "per_school_passing_math = per_school_passing_math / per_school_counts * 100\n",
    "\n",
    "per_school_passing_reading = per_school_passing_reading / per_school_counts * 100"
   ]
  },
  {
   "cell_type": "code",
   "execution_count": null,
   "id": "5069dfa8",
   "metadata": {},
   "outputs": [],
   "source": [
    "per_school_passing_math"
   ]
  },
  {
   "cell_type": "code",
   "execution_count": null,
   "id": "146c7283",
   "metadata": {},
   "outputs": [],
   "source": [
    "per_school_passing_reading"
   ]
  },
  {
   "cell_type": "code",
   "execution_count": null,
   "id": "7dfa8889",
   "metadata": {},
   "outputs": [],
   "source": [
    "# Calculate the students who passed both math and reading.\n",
    "per_passing_math_reading = school_data_complete_df[(school_data_complete_df[\"math_score\"] >= 70) & (school_data_complete_df[\"reading_score\"] >= 70)]\n",
    "\n",
    "per_passing_math_reading.head()"
   ]
  },
  {
   "cell_type": "code",
   "execution_count": null,
   "id": "7627f080",
   "metadata": {},
   "outputs": [],
   "source": [
    "# Calculate the number of students who passed both math and reading.\n",
    "per_passing_math_reading = per_passing_math_reading.groupby([\"school_name\"]).count()[\"student_name\"]"
   ]
  },
  {
   "cell_type": "code",
   "execution_count": null,
   "id": "d2813694",
   "metadata": {},
   "outputs": [],
   "source": [
    "# Calculate the overall passing percentage.\n",
    "per_overall_passing_percentage = per_passing_math_reading / per_school_counts * 100"
   ]
  },
  {
   "cell_type": "code",
   "execution_count": null,
   "id": "38c9d23c",
   "metadata": {},
   "outputs": [],
   "source": [
    "per_passing_math_reading"
   ]
  },
  {
   "cell_type": "code",
   "execution_count": null,
   "id": "72d93a30",
   "metadata": {},
   "outputs": [],
   "source": [
    "per_overall_passing_percentage"
   ]
  },
  {
   "cell_type": "code",
   "execution_count": null,
   "id": "2ab9f25d",
   "metadata": {},
   "outputs": [],
   "source": [
    "# Adding a list of values with keys to create a new DataFrame.\n",
    "\n",
    "per_school_summary_df = pd.DataFrame({\n",
    "             \"School Type\": per_school_types,\n",
    "             \"Total Students\": per_school_counts,\n",
    "             \"Total School Budget\": per_school_budget,\n",
    "             \"Per Student Budget\": per_school_capita,\n",
    "             \"Average Math Score\": per_school_math,\n",
    "           \"Average Reading Score\": per_school_reading,\n",
    "           \"% Passing Math\": per_school_passing_math,\n",
    "           \"% Passing Reading\": per_school_passing_reading,\n",
    "           \"% Overall Passing\": per_overall_passing_percentage})\n",
    "per_school_summary_df.head()"
   ]
  },
  {
   "cell_type": "code",
   "execution_count": null,
   "id": "8edf1bed",
   "metadata": {},
   "outputs": [],
   "source": [
    "# Format the Total School Budget and the Per Student Budget columns.\n",
    "per_school_summary_df[\"Total School Budget\"] = per_school_summary_df[\"Total School Budget\"].map(\"${:,.2f}\".format)\n",
    "\n",
    "per_school_summary_df[\"Per Student Budget\"] = per_school_summary_df[\"Per Student Budget\"].map(\"${:,.2f}\".format)\n",
    "\n",
    "\n",
    "# Display the data frame\n",
    "per_school_summary_df.head()"
   ]
  },
  {
   "cell_type": "code",
   "execution_count": null,
   "id": "4ebfc268",
   "metadata": {},
   "outputs": [],
   "source": [
    "# Reorder the columns in the order you want them to appear.\n",
    "new_column_order = [\"School Type\", \"Total Students\", \"Total School Budget\", \"Per Student Budget\", \"Average Math Score\", \"Average Reading Score\", \"% Passing Math\", \"% Passing Reading\", \"% Overall Passing\"]\n",
    "\n",
    "# Assign district summary df the new column order.\n",
    "per_school_summary_df = per_school_summary_df[new_column_order]\n",
    "\n",
    "per_school_summary_df.head()"
   ]
  },
  {
   "cell_type": "code",
   "execution_count": null,
   "id": "cbfed3c4",
   "metadata": {},
   "outputs": [],
   "source": [
    "# Sort and show top five schools.\n",
    "top_schools = per_school_summary_df.sort_values([\"% Overall Passing\"], ascending=False)\n",
    "\n",
    "top_schools.head()"
   ]
  },
  {
   "cell_type": "code",
   "execution_count": null,
   "id": "2b2f09b4",
   "metadata": {},
   "outputs": [],
   "source": [
    "# Sort and show top five schools.\n",
    "bottom_schools = per_school_summary_df.sort_values([\"% Overall Passing\"], ascending=True)\n",
    "\n",
    "bottom_schools.head()"
   ]
  },
  {
   "cell_type": "code",
   "execution_count": null,
   "id": "b445e46b",
   "metadata": {},
   "outputs": [],
   "source": [
    "# Create a grade level DataFrames.\n",
    "ninth_graders = school_data_complete_df[(school_data_complete_df[\"grade\"] == \"9th\")]\n",
    "\n",
    "tenth_graders = school_data_complete_df[(school_data_complete_df[\"grade\"] == \"10th\")]\n",
    "\n",
    "eleventh_graders = school_data_complete_df[(school_data_complete_df[\"grade\"] == \"11th\")]\n",
    "\n",
    "twelfth_graders = school_data_complete_df[(school_data_complete_df[\"grade\"] == \"12th\")]"
   ]
  },
  {
   "cell_type": "code",
   "execution_count": null,
   "id": "ad0b0244",
   "metadata": {},
   "outputs": [],
   "source": [
    "ninth_graders"
   ]
  },
  {
   "cell_type": "code",
   "execution_count": null,
   "id": "d2c65f3a",
   "metadata": {},
   "outputs": [],
   "source": [
    "# Group each grade level DataFrame by the school name for the average math score.\n",
    "ninth_grade_math_scores = ninth_graders.groupby([\"school_name\"]).mean()[\"math_score\"]\n",
    "\n",
    "tenth_grade_math_scores = tenth_graders.groupby([\"school_name\"]).mean()[\"math_score\"]\n",
    "\n",
    "eleventh_grade_math_scores = eleventh_graders.groupby([\"school_name\"]).mean()[\"math_score\"]\n",
    "\n",
    "twelfth_grade_math_scores = twelfth_graders.groupby([\"school_name\"]).mean()[\"math_score\"]"
   ]
  },
  {
   "cell_type": "code",
   "execution_count": null,
   "id": "bbd07426",
   "metadata": {},
   "outputs": [],
   "source": [
    "ninth_grade_math_scores"
   ]
  },
  {
   "cell_type": "code",
   "execution_count": null,
   "id": "82f12d8f",
   "metadata": {},
   "outputs": [],
   "source": [
    "eleventh_grade_math_scores"
   ]
  },
  {
   "cell_type": "code",
   "execution_count": null,
   "id": "8c122854",
   "metadata": {},
   "outputs": [],
   "source": [
    "# Group each grade level DataFrame by the school name for the average reading score.\n",
    "ninth_grade_reading_scores = ninth_graders.groupby([\"school_name\"]).mean()[\"reading_score\"]\n",
    "\n",
    "tenth_grade_reading_scores = tenth_graders.groupby([\"school_name\"]).mean()[\"reading_score\"]\n",
    "\n",
    "eleventh_grade_reading_scores = eleventh_graders.groupby([\"school_name\"]).mean()[\"reading_score\"]\n",
    "\n",
    "twelfth_grade_reading_scores = twelfth_graders.groupby([\"school_name\"]).mean()[\"reading_score\"]"
   ]
  },
  {
   "cell_type": "code",
   "execution_count": null,
   "id": "3d2af4b6",
   "metadata": {},
   "outputs": [],
   "source": [
    "ninth_grade_reading_scores"
   ]
  },
  {
   "cell_type": "code",
   "execution_count": null,
   "id": "bc91a84b",
   "metadata": {},
   "outputs": [],
   "source": [
    "twelfth_grade_reading_scores"
   ]
  },
  {
   "cell_type": "code",
   "execution_count": null,
   "id": "6e6dfcf7",
   "metadata": {},
   "outputs": [],
   "source": [
    "# Combine each grade level Series for average math scores by school into a single DataFrame.\n",
    "math_scores_by_grade = pd.DataFrame({\n",
    "               \"9th\": ninth_grade_math_scores,\n",
    "               \"10th\": tenth_grade_math_scores,\n",
    "               \"11th\": eleventh_grade_math_scores,\n",
    "               \"12th\": twelfth_grade_math_scores})\n",
    "\n",
    "math_scores_by_grade.head()"
   ]
  },
  {
   "cell_type": "code",
   "execution_count": null,
   "id": "e1eb3473",
   "metadata": {},
   "outputs": [],
   "source": [
    "# Combine each grade level Series for average reading scores by school into a single DataFrame.\n",
    "reading_scores_by_grade = pd.DataFrame({\n",
    "              \"9th\": ninth_grade_reading_scores,\n",
    "              \"10th\": tenth_grade_reading_scores,\n",
    "              \"11th\": eleventh_grade_reading_scores,\n",
    "              \"12th\": twelfth_grade_reading_scores})\n",
    "\n",
    "reading_scores_by_grade.head()"
   ]
  },
  {
   "cell_type": "code",
   "execution_count": null,
   "id": "bb4b5aef",
   "metadata": {},
   "outputs": [],
   "source": [
    "# Format each grade column.\n",
    "math_scores_by_grade[\"9th\"] = math_scores_by_grade[\"9th\"].map(\"{:.1f}\".format)\n",
    "\n",
    "math_scores_by_grade[\"10th\"] = math_scores_by_grade[\"10th\"].map(\"{:.1f}\".format)\n",
    "\n",
    "math_scores_by_grade[\"11th\"] = math_scores_by_grade[\"11th\"].map(\"{:.1f}\".format)\n",
    "\n",
    "math_scores_by_grade[\"12th\"] = math_scores_by_grade[\"12th\"].map(\"{:.1f}\".format)\n",
    "\n",
    "# Make sure the columns are in the correct order.\n",
    "math_scores_by_grade = math_scores_by_grade[\n",
    "                 [\"9th\", \"10th\", \"11th\", \"12th\"]]\n",
    "\n",
    "# Remove the index name.\n",
    "math_scores_by_grade.index.name = None\n",
    "\n",
    "math_scores_by_grade.head()"
   ]
  },
  {
   "cell_type": "code",
   "execution_count": null,
   "id": "a0963d86",
   "metadata": {},
   "outputs": [],
   "source": [
    "# Format each grade column.\n",
    "reading_scores_by_grade[\"9th\"] = reading_scores_by_grade[\"9th\"].map(\"{:,.1f}\".format)\n",
    "\n",
    "reading_scores_by_grade[\"10th\"] = reading_scores_by_grade[\"10th\"].map(\"{:,.1f}\".format)\n",
    "\n",
    "reading_scores_by_grade[\"11th\"] = reading_scores_by_grade[\"11th\"].map(\"{:,.1f}\".format)\n",
    "\n",
    "reading_scores_by_grade[\"12th\"] = reading_scores_by_grade[\"12th\"].map(\"{:,.1f}\".format)\n",
    "\n",
    "# Make sure the columns are in the correct order.\n",
    "reading_scores_by_grade = reading_scores_by_grade[\n",
    "                 [\"9th\", \"10th\", \"11th\", \"12th\"]]\n",
    "\n",
    "# Remove the index name.\n",
    "reading_scores_by_grade.index.name = None\n",
    "# Display the data frame.\n",
    "reading_scores_by_grade.head()"
   ]
  },
  {
   "cell_type": "code",
   "execution_count": null,
   "id": "f87bced6",
   "metadata": {},
   "outputs": [],
   "source": [
    "# Get the descriptive statistics for the per_school_capita.\n",
    "per_school_capita.describe()"
   ]
  },
  {
   "cell_type": "code",
   "execution_count": null,
   "id": "d3ba3da2",
   "metadata": {},
   "outputs": [],
   "source": [
    "# Cut the per_school_capita into the spending ranges.\n",
    "spending_bins = [0, 585, 615, 645, 675]\n",
    "pd.cut(per_school_capita, spending_bins)"
   ]
  },
  {
   "cell_type": "code",
   "execution_count": null,
   "id": "d57f7472",
   "metadata": {},
   "outputs": [],
   "source": [
    "# Cut the per_school_capita into the spending ranges.\n",
    "spending_bins = [585, 615, 645, 675]\n",
    "pd.cut(per_school_capita, spending_bins)"
   ]
  },
  {
   "cell_type": "code",
   "execution_count": null,
   "id": "8155d349",
   "metadata": {},
   "outputs": [],
   "source": [
    "# Cut the per_school_capita into the spending ranges.\n",
    "spending_bins = [0, 585, 615, 645, 675]\n",
    "per_school_capita.groupby(pd.cut(per_school_capita, spending_bins)).count()"
   ]
  },
  {
   "cell_type": "code",
   "execution_count": null,
   "id": "3efc6b21",
   "metadata": {},
   "outputs": [],
   "source": [
    "# Cut the per_school_capita into the spending ranges.\n",
    "spending_bins = [0, 585, 630, 645, 675]\n",
    "per_school_capita.groupby(pd.cut(per_school_capita, spending_bins)).count()"
   ]
  },
  {
   "cell_type": "code",
   "execution_count": null,
   "id": "df229f12",
   "metadata": {},
   "outputs": [],
   "source": [
    "# Establish the spending bins and group names.\n",
    "spending_bins = [0, 585, 630, 645, 675]\n",
    "group_names = [\"<$584\", \"$585-629\", \"$630-644\", \"$645-675\"]"
   ]
  },
  {
   "cell_type": "code",
   "execution_count": null,
   "id": "7f217d88",
   "metadata": {},
   "outputs": [],
   "source": [
    "# Categorize spending based on the bins.\n",
    "per_school_summary_df[\"Spending Ranges (Per Student)\"] = pd.cut(per_school_capita, spending_bins, labels=group_names)\n",
    "\n",
    "per_school_summary_df"
   ]
  },
  {
   "cell_type": "code",
   "execution_count": null,
   "id": "24cc54e7",
   "metadata": {},
   "outputs": [],
   "source": [
    "# Calculate averages for the desired columns.\n",
    "spending_math_scores = per_school_summary_df.groupby([\"Spending Ranges (Per Student)\"]).mean()[\"Average Math Score\"]\n",
    "\n",
    "spending_reading_scores = per_school_summary_df.groupby([\"Spending Ranges (Per Student)\"]).mean()[\"Average Reading Score\"]\n",
    "\n",
    "spending_passing_math = per_school_summary_df.groupby([\"Spending Ranges (Per Student)\"]).mean()[\"% Passing Math\"]\n",
    "\n",
    "spending_passing_reading = per_school_summary_df.groupby([\"Spending Ranges (Per Student)\"]).mean()[\"% Passing Reading\"]\n",
    "\n",
    "overall_passing_spending = per_school_summary_df.groupby([\"Spending Ranges (Per Student)\"]).mean()[\"% Overall Passing\"]\n"
   ]
  },
  {
   "cell_type": "code",
   "execution_count": null,
   "id": "3e267ff9",
   "metadata": {},
   "outputs": [],
   "source": [
    "overall_passing_spending"
   ]
  },
  {
   "cell_type": "code",
   "execution_count": null,
   "id": "492d9353",
   "metadata": {},
   "outputs": [],
   "source": [
    "# Assemble into DataFrame.\n",
    "spending_summary_df = pd.DataFrame({\n",
    "          \"Average Math Score\" : spending_math_scores,\n",
    "          \"Average Reading Score\": spending_reading_scores,\n",
    "          \"% Passing Math\": spending_passing_math,\n",
    "          \"% Passing Reading\": spending_passing_reading,\n",
    "          \"% Overall Passing\": overall_passing_spending})\n",
    "\n",
    "spending_summary_df"
   ]
  },
  {
   "cell_type": "code",
   "execution_count": null,
   "id": "b9e069c6",
   "metadata": {},
   "outputs": [],
   "source": [
    "# Formatting\n",
    "spending_summary_df[\"Average Math Score\"] = spending_summary_df[\"Average Math Score\"].map(\"{:.1f}\".format)\n",
    "\n",
    "spending_summary_df[\"Average Reading Score\"] = spending_summary_df[\"Average Reading Score\"].map(\"{:.1f}\".format)\n",
    "\n",
    "spending_summary_df[\"% Passing Math\"] = spending_summary_df[\"% Passing Math\"].map(\"{:.0f}\".format)\n",
    "\n",
    "spending_summary_df[\"% Passing Reading\"] = spending_summary_df[\"% Passing Reading\"].map(\"{:.0f}\".format)\n",
    "\n",
    "spending_summary_df[\"% Overall Passing\"] = spending_summary_df[\"% Overall Passing\"].map(\"{:.0f}\".format)\n",
    "\n",
    "spending_summary_df"
   ]
  },
  {
   "cell_type": "code",
   "execution_count": null,
   "id": "782ff39b",
   "metadata": {},
   "outputs": [],
   "source": [
    "# Establish the bins.\n",
    "size_bins = [0, 1000, 2000, 5000]\n",
    "group_names = [\"Small (<1000)\", \"Medium (1000-2000)\", \"Large (2000-5000)\"]"
   ]
  },
  {
   "cell_type": "code",
   "execution_count": null,
   "id": "58f4d346",
   "metadata": {},
   "outputs": [],
   "source": [
    "# Categorize spending based on the bins.\n",
    "per_school_summary_df[\"School Size\"] = pd.cut(per_school_summary_df[\"Total Students\"], size_bins, labels=group_names)\n",
    "\n",
    "per_school_summary_df.head()"
   ]
  },
  {
   "cell_type": "code",
   "execution_count": null,
   "id": "e215134a",
   "metadata": {},
   "outputs": [],
   "source": [
    "# Calculate averages for the desired columns.\n",
    "size_math_scores = per_school_summary_df.groupby([\"School Size\"]).mean()[\"Average Math Score\"]\n",
    "\n",
    "size_reading_scores = per_school_summary_df.groupby([\"School Size\"]).mean()[\"Average Reading Score\"]\n",
    "\n",
    "size_passing_math = per_school_summary_df.groupby([\"School Size\"]).mean()[\"% Passing Math\"]\n",
    "\n",
    "size_passing_reading = per_school_summary_df.groupby([\"School Size\"]).mean()[\"% Passing Reading\"]\n",
    "\n",
    "size_overall_passing = per_school_summary_df.groupby([\"School Size\"]).mean()[\"% Overall Passing\"]"
   ]
  },
  {
   "cell_type": "code",
   "execution_count": null,
   "id": "98b73ddb",
   "metadata": {},
   "outputs": [],
   "source": [
    "# Assemble into DataFrame.\n",
    "size_summary_df = pd.DataFrame({\n",
    "          \"Average Math Score\" : size_math_scores,\n",
    "          \"Average Reading Score\": size_reading_scores,\n",
    "          \"% Passing Math\": size_passing_math,\n",
    "          \"% Passing Reading\": size_passing_reading,\n",
    "          \"% Overall Passing\": size_overall_passing})\n",
    "\n",
    "size_summary_df"
   ]
  },
  {
   "cell_type": "code",
   "execution_count": null,
   "id": "06dcc66c",
   "metadata": {},
   "outputs": [],
   "source": [
    "# Formatting.\n",
    "size_summary_df[\"Average Math Score\"] = size_summary_df[\"Average Math Score\"].map(\"{:.1f}\".format)\n",
    "\n",
    "size_summary_df[\"Average Reading Score\"] = size_summary_df[\"Average Reading Score\"].map(\"{:.1f}\".format)\n",
    "\n",
    "size_summary_df[\"% Passing Math\"] = size_summary_df[\"% Passing Math\"].map(\"{:.0f}\".format)\n",
    "\n",
    "size_summary_df[\"% Passing Reading\"] = size_summary_df[\"% Passing Reading\"].map(\"{:.0f}\".format)\n",
    "\n",
    "size_summary_df[\"% Overall Passing\"] = size_summary_df[\"% Overall Passing\"].map(\"{:.0f}\".format)\n",
    "\n",
    "size_summary_df"
   ]
  },
  {
   "cell_type": "code",
   "execution_count": null,
   "id": "ef8c7802",
   "metadata": {},
   "outputs": [],
   "source": [
    "# Calculate averages for the desired columns.\n",
    "type_math_scores = per_school_summary_df.groupby([\"School Type\"]).mean()[\"Average Math Score\"]\n",
    "\n",
    "type_reading_scores = per_school_summary_df.groupby([\"School Type\"]).mean()[\"Average Reading Score\"]\n",
    "\n",
    "type_passing_math = per_school_summary_df.groupby([\"School Type\"]).mean()[\"% Passing Math\"]\n",
    "\n",
    "type_passing_reading = per_school_summary_df.groupby([\"School Type\"]).mean()[\"% Passing Reading\"]\n",
    "\n",
    "type_overall_passing = per_school_summary_df.groupby([\"School Type\"]).mean()[\"% Overall Passing\"]"
   ]
  },
  {
   "cell_type": "code",
   "execution_count": null,
   "id": "52a28cb0",
   "metadata": {},
   "outputs": [],
   "source": [
    "# Assemble into DataFrame.\n",
    "type_summary_df = pd.DataFrame({\n",
    "          \"Average Math Score\" : type_math_scores,\n",
    "          \"Average Reading Score\": type_reading_scores,\n",
    "          \"% Passing Math\": type_passing_math,\n",
    "          \"% Passing Reading\": type_passing_reading,\n",
    "          \"% Overall Passing\": type_overall_passing})\n",
    "\n",
    "type_summary_df"
   ]
  },
  {
   "cell_type": "code",
   "execution_count": null,
   "id": "d7562901",
   "metadata": {},
   "outputs": [],
   "source": [
    "# Formatting\n",
    "type_summary_df[\"Average Math Score\"] = type_summary_df[\"Average Math Score\"].map(\"{:.1f}\".format)\n",
    "\n",
    "type_summary_df[\"Average Reading Score\"] = type_summary_df[\"Average Reading Score\"].map(\"{:.1f}\".format)\n",
    "\n",
    "type_summary_df[\"% Passing Math\"] = type_summary_df[\"% Passing Math\"].map(\"{:.0f}\".format)\n",
    "\n",
    "type_summary_df[\"% Passing Reading\"] = type_summary_df[\"% Passing Reading\"].map(\"{:.0f}\".format)\n",
    "\n",
    "type_summary_df[\"% Overall Passing\"] = type_summary_df[\"% Overall Passing\"].map(\"{:.0f}\".format)\n",
    "\n",
    "type_summary_df"
   ]
  },
  {
   "cell_type": "code",
   "execution_count": null,
   "id": "d104da60",
   "metadata": {},
   "outputs": [],
   "source": []
  }
 ],
 "metadata": {
  "kernelspec": {
   "display_name": "PythonData",
   "language": "python",
   "name": "pythondata"
  },
  "language_info": {
   "codemirror_mode": {
    "name": "ipython",
    "version": 3
   },
   "file_extension": ".py",
   "mimetype": "text/x-python",
   "name": "python",
   "nbconvert_exporter": "python",
   "pygments_lexer": "ipython3",
   "version": "3.7.11"
  }
 },
 "nbformat": 4,
 "nbformat_minor": 5
}
